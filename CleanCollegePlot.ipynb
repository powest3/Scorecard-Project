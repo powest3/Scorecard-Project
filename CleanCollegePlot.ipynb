{
 "cells": [
  {
   "cell_type": "code",
   "execution_count": 1,
   "metadata": {},
   "outputs": [
    {
     "data": {
      "text/html": [
       "<div>\n",
       "<style scoped>\n",
       "    .dataframe tbody tr th:only-of-type {\n",
       "        vertical-align: middle;\n",
       "    }\n",
       "\n",
       "    .dataframe tbody tr th {\n",
       "        vertical-align: top;\n",
       "    }\n",
       "\n",
       "    .dataframe thead th {\n",
       "        text-align: right;\n",
       "    }\n",
       "</style>\n",
       "<table border=\"1\" class=\"dataframe\">\n",
       "  <thead>\n",
       "    <tr style=\"text-align: right;\">\n",
       "      <th></th>\n",
       "      <th>University ID</th>\n",
       "      <th>University Name</th>\n",
       "      <th>City</th>\n",
       "      <th>State</th>\n",
       "      <th>Mean Earnings 6</th>\n",
       "      <th>Mean Earnings 10</th>\n",
       "      <th>Admission Rate</th>\n",
       "      <th>All Admission Rates</th>\n",
       "    </tr>\n",
       "  </thead>\n",
       "  <tbody>\n",
       "    <tr>\n",
       "      <th>0</th>\n",
       "      <td>100654.0</td>\n",
       "      <td>Alabama A &amp; M University</td>\n",
       "      <td>Normal</td>\n",
       "      <td>AL</td>\n",
       "      <td>28400</td>\n",
       "      <td>35500</td>\n",
       "      <td>0.9027</td>\n",
       "      <td>0.902671</td>\n",
       "    </tr>\n",
       "    <tr>\n",
       "      <th>1</th>\n",
       "      <td>100663.0</td>\n",
       "      <td>University of Alabama at Birmingham</td>\n",
       "      <td>Birmingham</td>\n",
       "      <td>AL</td>\n",
       "      <td>39400</td>\n",
       "      <td>48400</td>\n",
       "      <td>0.9181</td>\n",
       "      <td>0.918068</td>\n",
       "    </tr>\n",
       "    <tr>\n",
       "      <th>2</th>\n",
       "      <td>100690.0</td>\n",
       "      <td>Amridge University</td>\n",
       "      <td>Montgomery</td>\n",
       "      <td>AL</td>\n",
       "      <td>35400</td>\n",
       "      <td>47600</td>\n",
       "      <td>NaN</td>\n",
       "      <td>NaN</td>\n",
       "    </tr>\n",
       "    <tr>\n",
       "      <th>3</th>\n",
       "      <td>100706.0</td>\n",
       "      <td>University of Alabama in Huntsville</td>\n",
       "      <td>Huntsville</td>\n",
       "      <td>AL</td>\n",
       "      <td>40300</td>\n",
       "      <td>52000</td>\n",
       "      <td>0.8123</td>\n",
       "      <td>0.812304</td>\n",
       "    </tr>\n",
       "    <tr>\n",
       "      <th>4</th>\n",
       "      <td>100724.0</td>\n",
       "      <td>Alabama State University</td>\n",
       "      <td>Montgomery</td>\n",
       "      <td>AL</td>\n",
       "      <td>24400</td>\n",
       "      <td>30600</td>\n",
       "      <td>0.9787</td>\n",
       "      <td>0.978661</td>\n",
       "    </tr>\n",
       "  </tbody>\n",
       "</table>\n",
       "</div>"
      ],
      "text/plain": [
       "   University ID                      University Name        City State  \\\n",
       "0       100654.0             Alabama A & M University      Normal    AL   \n",
       "1       100663.0  University of Alabama at Birmingham  Birmingham    AL   \n",
       "2       100690.0                   Amridge University  Montgomery    AL   \n",
       "3       100706.0  University of Alabama in Huntsville  Huntsville    AL   \n",
       "4       100724.0             Alabama State University  Montgomery    AL   \n",
       "\n",
       "  Mean Earnings 6 Mean Earnings 10  Admission Rate  All Admission Rates  \n",
       "0           28400            35500          0.9027             0.902671  \n",
       "1           39400            48400          0.9181             0.918068  \n",
       "2           35400            47600             NaN                  NaN  \n",
       "3           40300            52000          0.8123             0.812304  \n",
       "4           24400            30600          0.9787             0.978661  "
      ]
     },
     "execution_count": 1,
     "metadata": {},
     "output_type": "execute_result"
    }
   ],
   "source": [
    "import matplotlib.pyplot as plt\n",
    "import numpy as np\n",
    "import pandas as pd\n",
    "# Load in csv\n",
    "college_data = (\"Desktop/Scorecard Data.csv\")\n",
    "university_df = pd.read_csv(college_data)\n",
    "reduced_university_df =university_df[[\"UNITID\",\"INSTNM\",\"CITY\", \"STABBR\",\"MN_EARN_WNE_P6\",\"MN_EARN_WNE_P10\",\"ADM_RATE\",\n",
    "                                    \"ADM_RATE_ALL\"]]\n",
    "reduced_university_df = reduced_university_df.rename(\n",
    "   columns={\"UNITID\":\"University ID\",\"INSTNM\":\"University Name\", \"CITY\":\"City\",\"STABBR\":\"State\",\n",
    "                            \n",
    "            \"MN_EARN_WNE_P6\":\"Mean Earnings 6\",\"MN_EARN_WNE_P10\":\"Mean Earnings 10\", \"ADM_RATE\": \"Admission Rate\", \"ADM_RATE_ALL\": \"All Admission Rates\"})\n",
    "reduced_university_df.head(5)"
   ]
  },
  {
   "cell_type": "code",
   "execution_count": 2,
   "metadata": {},
   "outputs": [
    {
     "name": "stdout",
     "output_type": "stream",
     "text": [
      "Requirement already satisfied: stats in /anaconda3/lib/python3.7/site-packages (0.1.2a0)\r\n"
     ]
    }
   ],
   "source": [
    "#Install stats\n",
    "!pip install stats"
   ]
  },
  {
   "cell_type": "code",
   "execution_count": 3,
   "metadata": {},
   "outputs": [],
   "source": [
    "# Dependencies\n",
    "from stats import mean, median, mode"
   ]
  },
  {
   "cell_type": "code",
   "execution_count": 4,
   "metadata": {},
   "outputs": [],
   "source": [
    "reduced_university_df.dropna(axis ='rows', inplace=True)"
   ]
  },
  {
   "cell_type": "code",
   "execution_count": 5,
   "metadata": {},
   "outputs": [
    {
     "data": {
      "text/html": [
       "<div>\n",
       "<style scoped>\n",
       "    .dataframe tbody tr th:only-of-type {\n",
       "        vertical-align: middle;\n",
       "    }\n",
       "\n",
       "    .dataframe tbody tr th {\n",
       "        vertical-align: top;\n",
       "    }\n",
       "\n",
       "    .dataframe thead th {\n",
       "        text-align: right;\n",
       "    }\n",
       "</style>\n",
       "<table border=\"1\" class=\"dataframe\">\n",
       "  <thead>\n",
       "    <tr style=\"text-align: right;\">\n",
       "      <th></th>\n",
       "      <th>University ID</th>\n",
       "      <th>University Name</th>\n",
       "      <th>City</th>\n",
       "      <th>State</th>\n",
       "      <th>Mean Earnings 6</th>\n",
       "      <th>Mean Earnings 10</th>\n",
       "      <th>Admission Rate</th>\n",
       "      <th>All Admission Rates</th>\n",
       "      <th>new_admission</th>\n",
       "    </tr>\n",
       "  </thead>\n",
       "  <tbody>\n",
       "    <tr>\n",
       "      <th>0</th>\n",
       "      <td>100654.0</td>\n",
       "      <td>Alabama A &amp; M University</td>\n",
       "      <td>Normal</td>\n",
       "      <td>AL</td>\n",
       "      <td>28400</td>\n",
       "      <td>35500</td>\n",
       "      <td>0.9027</td>\n",
       "      <td>0.902671</td>\n",
       "      <td>&gt;75%</td>\n",
       "    </tr>\n",
       "    <tr>\n",
       "      <th>1</th>\n",
       "      <td>100663.0</td>\n",
       "      <td>University of Alabama at Birmingham</td>\n",
       "      <td>Birmingham</td>\n",
       "      <td>AL</td>\n",
       "      <td>39400</td>\n",
       "      <td>48400</td>\n",
       "      <td>0.9181</td>\n",
       "      <td>0.918068</td>\n",
       "      <td>&gt;75%</td>\n",
       "    </tr>\n",
       "    <tr>\n",
       "      <th>3</th>\n",
       "      <td>100706.0</td>\n",
       "      <td>University of Alabama in Huntsville</td>\n",
       "      <td>Huntsville</td>\n",
       "      <td>AL</td>\n",
       "      <td>40300</td>\n",
       "      <td>52000</td>\n",
       "      <td>0.8123</td>\n",
       "      <td>0.812304</td>\n",
       "      <td>&gt;75%</td>\n",
       "    </tr>\n",
       "    <tr>\n",
       "      <th>4</th>\n",
       "      <td>100724.0</td>\n",
       "      <td>Alabama State University</td>\n",
       "      <td>Montgomery</td>\n",
       "      <td>AL</td>\n",
       "      <td>24400</td>\n",
       "      <td>30600</td>\n",
       "      <td>0.9787</td>\n",
       "      <td>0.978661</td>\n",
       "      <td>&gt;75%</td>\n",
       "    </tr>\n",
       "    <tr>\n",
       "      <th>5</th>\n",
       "      <td>100751.0</td>\n",
       "      <td>The University of Alabama</td>\n",
       "      <td>Tuscaloosa</td>\n",
       "      <td>AL</td>\n",
       "      <td>42400</td>\n",
       "      <td>51600</td>\n",
       "      <td>0.5330</td>\n",
       "      <td>0.532954</td>\n",
       "      <td>50-75%</td>\n",
       "    </tr>\n",
       "  </tbody>\n",
       "</table>\n",
       "</div>"
      ],
      "text/plain": [
       "   University ID                      University Name        City State  \\\n",
       "0       100654.0             Alabama A & M University      Normal    AL   \n",
       "1       100663.0  University of Alabama at Birmingham  Birmingham    AL   \n",
       "3       100706.0  University of Alabama in Huntsville  Huntsville    AL   \n",
       "4       100724.0             Alabama State University  Montgomery    AL   \n",
       "5       100751.0            The University of Alabama  Tuscaloosa    AL   \n",
       "\n",
       "  Mean Earnings 6 Mean Earnings 10  Admission Rate  All Admission Rates  \\\n",
       "0           28400            35500          0.9027             0.902671   \n",
       "1           39400            48400          0.9181             0.918068   \n",
       "3           40300            52000          0.8123             0.812304   \n",
       "4           24400            30600          0.9787             0.978661   \n",
       "5           42400            51600          0.5330             0.532954   \n",
       "\n",
       "  new_admission  \n",
       "0          >75%  \n",
       "1          >75%  \n",
       "3          >75%  \n",
       "4          >75%  \n",
       "5        50-75%  "
      ]
     },
     "execution_count": 5,
     "metadata": {},
     "output_type": "execute_result"
    }
   ],
   "source": [
    "# Create the bins in which Data will be held\n",
    "# Bins are 0, 0.1, 0.2, 0.3, 0.4, 0.5, 0.6, 0.7, 0.8, 0.9, 1   \n",
    "bins = [0, 0.25, 0.50, 0.75, 1.00]\n",
    "group_names = [\"<25%\", \"25-50%\", \"50-75%\", \">75%\"]\n",
    "\n",
    "reduced_university_df['new_admission'] = pd.cut(reduced_university_df[\"All Admission Rates\"], bins, labels=group_names)\n",
    "\n",
    "reduced_university_df.head()\n"
   ]
  },
  {
   "cell_type": "code",
   "execution_count": 6,
   "metadata": {},
   "outputs": [
    {
     "name": "stdout",
     "output_type": "stream",
     "text": [
      "[0, 0.25, 0.5, 0.75, 1.0]\n"
     ]
    }
   ],
   "source": [
    "print(bins)"
   ]
  },
  {
   "cell_type": "code",
   "execution_count": 7,
   "metadata": {},
   "outputs": [
    {
     "data": {
      "image/png": "[encoded data removed]",
      "text/plain": [
       "<Figure size 432x288 with 1 Axes>"
      ]
     },
     "metadata": {
      "needs_background": "light"
     },
     "output_type": "display_data"
    }
   ],
   "source": [
    "plt.scatter(reduced_university_df['All Admission Rates'], reduced_university_df['Mean Earnings 6'])\n",
    "plt.show()"
   ]
  },
  {
   "cell_type": "code",
   "execution_count": null,
   "metadata": {},
   "outputs": [],
   "source": []
  }
 ],
 "metadata": {
  "kernelspec": {
   "display_name": "Python 3",
   "language": "python",
   "name": "python3"
  },
  "language_info": {
   "codemirror_mode": {
    "name": "ipython",
    "version": 3
   },
   "file_extension": ".py",
   "mimetype": "text/x-python",
   "name": "python",
   "nbconvert_exporter": "python",
   "pygments_lexer": "ipython3",
   "version": "3.7.3"
  }
 },
 "nbformat": 4,
 "nbformat_minor": 2
}
