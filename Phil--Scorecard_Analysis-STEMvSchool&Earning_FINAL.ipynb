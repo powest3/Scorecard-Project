{
 "cells": [
  {
   "cell_type": "code",
   "execution_count": 1,
   "metadata": {},
   "outputs": [
    {
     "name": "stdout",
     "output_type": "stream",
     "text": [
      "Requirement already satisfied: pdfkit in c:\\users\\phili\\anaconda3\\lib\\site-packages (0.6.1)\n",
      "Note: you may need to restart the kernel to use updated packages.\n"
     ]
    }
   ],
   "source": [
    "pip install pdfkit"
   ]
  },
  {
   "cell_type": "code",
   "execution_count": 2,
   "metadata": {},
   "outputs": [],
   "source": [
    "%matplotlib inline\n",
    "import matplotlib.pyplot as plt\n",
    "import pandas as pd\n",
    "import numpy as np\n",
    "import pdfkit as pdf\n",
    "\n",
    "\n"
   ]
  },
  {
   "cell_type": "code",
   "execution_count": 3,
   "metadata": {},
   "outputs": [
    {
     "name": "stderr",
     "output_type": "stream",
     "text": [
      "C:\\Users\\phili\\Anaconda3\\lib\\site-packages\\IPython\\core\\interactiveshell.py:3057: DtypeWarning: Columns (31,1608,1619,1620,1621,1622,1623,1624,1625,1626,1627,1628,1629,1640,1643,1648,1657,1666,1669,1674,1683,1688,1689,1690,1691,1692,1697,1700,1703,1704,1705,1706,1707,1726,1727,1728,1729,1815,1817,1823,1830,1879,1880,1881,1882,1883,1884,1885,1886,1887,1888,1889,1890,1891,1892,1893,1894,1895,1896,1897,1898,1957,1958,1959,1960,1961,1962,1963,1964,1965,1966,1967,1968,1969,1970,1971,1972,1973,1974,1975,1976) have mixed types. Specify dtype option on import or set low_memory=False.\n",
      "  interactivity=interactivity, compiler=compiler, result=result)\n"
     ]
    },
    {
     "name": "stdout",
     "output_type": "stream",
     "text": [
      "<class 'pandas.core.frame.DataFrame'>\n",
      "RangeIndex: 7112 entries, 0 to 7111\n",
      "Columns: 1977 entries, UNITID to OMENRUP_PARTTIME_POOLED_SUPP\n",
      "dtypes: float64(617), int64(14), object(1346)\n",
      "memory usage: 107.3+ MB\n"
     ]
    }
   ],
   "source": [
    "df = pd.read_csv(\"C:/Users/phili/Desktop/Most-Recent-Cohorts-All-Data-Elements (2).csv\", delimiter = ',')\n",
    "df.info()"
   ]
  },
  {
   "cell_type": "code",
   "execution_count": 4,
   "metadata": {},
   "outputs": [
    {
     "name": "stdout",
     "output_type": "stream",
     "text": [
      "<class 'pandas.core.frame.DataFrame'>\n",
      "RangeIndex: 7112 entries, 0 to 7111\n",
      "Columns: 1977 entries, University ID to OMENRUP_PARTTIME_POOLED_SUPP\n",
      "dtypes: float64(617), int64(14), object(1346)\n",
      "memory usage: 107.3+ MB\n"
     ]
    }
   ],
   "source": [
    "Column_Rename = df.rename(columns = {  \"UNITID\":\"University ID\",\"CIP14BACHL\":\"Degree in Engineering\",\"CIP27BACHL\":\"Degree in Math\",\"CIP11BACHL\":\"Degree in Computer Science\",\n",
    "                           \"CIP41BACHL\":\"Degree in Science and Tech\",\"REGION\":\"Region\",\"FEMALE\":\"Share of Female\",\"UGDS\":\"Enrollment of UnderGrad\",\"UG\":\n",
    "                           \"UnderGrad Population\",\"MN_EARN_WNE_INC1_P6\":\"Mean Earning After 6 yrs of Grad (0-30k)\",\n",
    "                           \"MN_EARN_WNE_INC2_P6\":\"Mean Earning After 6 yrs of Grad(30-75k)\",\"MN_EARN_WNE_INC3_P6\":\n",
    "                           \"Mean Earning After 6 yrs of Grad(75k +)\",\"MN_EARN_WNE_INC1_P8\":\"Mean Earning After 10 yrs of Grad (0-30k)\",\n",
    "                           \"MN_EARN_WNE_INC2_P8\":\"Mean Earning After 6 yrs of Grad(30-75k)\",\"MN_EARN_WNE_INC3_P8\":\"Mean Earning After 6 yrs of Grad(75k +)\",\n",
    "                           \"MN_EARN_WNE_INC1_P10\":\"Mean Earning After 10 yrs of Grad (0-30k)\",\"MN_EARN_WNE_INC2_P10\":\"Mean Earning After 10 yrs of Grad(30-75k)\",\n",
    "                           \"MN_EARN_WNE_INC3_P10\":\"Mean Earning After 10 yrs of Grad(75k +)\", })\n",
    "Column_Rename .info()"
   ]
  },
  {
   "cell_type": "code",
   "execution_count": 5,
   "metadata": {},
   "outputs": [
    {
     "name": "stdout",
     "output_type": "stream",
     "text": [
      "<class 'pandas.core.frame.DataFrame'>\n",
      "RangeIndex: 7112 entries, 0 to 7111\n",
      "Data columns (total 14 columns):\n",
      "University ID                                7112 non-null int64\n",
      "Degree in Engineering                        6664 non-null float64\n",
      "Degree in Math                               6664 non-null float64\n",
      "Degree in Computer Science                   6664 non-null float64\n",
      "Degree in Science and Tech                   6664 non-null float64\n",
      "Region                                       7112 non-null int64\n",
      "Share of Female                              6741 non-null object\n",
      "Enrollment of UnderGrad                      6364 non-null float64\n",
      "Mean Earning After 6 yrs of Grad (0-30k)     5887 non-null object\n",
      "Mean Earning After 6 yrs of Grad(30-75k)     5887 non-null object\n",
      "Mean Earning After 6 yrs of Grad(75k +)      5887 non-null object\n",
      "Mean Earning After 10 yrs of Grad (0-30k)    5887 non-null object\n",
      "Mean Earning After 10 yrs of Grad(30-75k)    5887 non-null object\n",
      "Mean Earning After 10 yrs of Grad(75k +)     5887 non-null object\n",
      "dtypes: float64(5), int64(2), object(7)\n",
      "memory usage: 778.0+ KB\n"
     ]
    }
   ],
   "source": [
    "Data_df = Column_Rename[['University ID','Degree in Engineering','Degree in Math','Degree in Computer Science','Degree in Science and Tech','Region','Share of Female','Enrollment of UnderGrad',\n",
    "'Mean Earning After 6 yrs of Grad (0-30k)','Mean Earning After 6 yrs of Grad(30-75k)','Mean Earning After 6 yrs of Grad(75k +)','Mean Earning After 10 yrs of Grad (0-30k)'\n",
    ",'Mean Earning After 10 yrs of Grad(30-75k)',\n",
    "'Mean Earning After 10 yrs of Grad(75k +)']]\n",
    "\n",
    "Data_df.info()\n"
   ]
  },
  {
   "cell_type": "code",
   "execution_count": 6,
   "metadata": {},
   "outputs": [
    {
     "data": {
      "text/plain": [
       "['University ID',\n",
       " 'Degree in Engineering',\n",
       " 'Degree in Math',\n",
       " 'Degree in Computer Science',\n",
       " 'Degree in Science and Tech',\n",
       " 'Region',\n",
       " 'Share of Female',\n",
       " 'Enrollment of UnderGrad',\n",
       " 'Mean Earning After 6 yrs of Grad (0-30k)',\n",
       " 'Mean Earning After 6 yrs of Grad(30-75k)',\n",
       " 'Mean Earning After 6 yrs of Grad(75k +)',\n",
       " 'Mean Earning After 10 yrs of Grad (0-30k)',\n",
       " 'Mean Earning After 10 yrs of Grad(30-75k)',\n",
       " 'Mean Earning After 10 yrs of Grad(75k +)']"
      ]
     },
     "execution_count": 6,
     "metadata": {},
     "output_type": "execute_result"
    }
   ],
   "source": [
    "columns_list = list(Data_df.columns)\n",
    "columns_list"
   ]
  },
  {
   "cell_type": "code",
   "execution_count": 7,
   "metadata": {},
   "outputs": [
    {
     "name": "stdout",
     "output_type": "stream",
     "text": [
      "<class 'pandas.core.frame.DataFrame'>\n",
      "Int64Index: 3811 entries, 0 to 7111\n",
      "Data columns (total 14 columns):\n",
      "University ID                                3811 non-null int64\n",
      "Degree in Engineering                        3455 non-null float64\n",
      "Degree in Math                               3455 non-null float64\n",
      "Degree in Computer Science                   3455 non-null float64\n",
      "Degree in Science and Tech                   3455 non-null float64\n",
      "Region                                       3811 non-null int64\n",
      "Share of Female                              3481 non-null object\n",
      "Enrollment of UnderGrad                      3278 non-null float64\n",
      "Mean Earning After 6 yrs of Grad (0-30k)     2977 non-null object\n",
      "Mean Earning After 6 yrs of Grad(30-75k)     2977 non-null object\n",
      "Mean Earning After 6 yrs of Grad(75k +)      2977 non-null object\n",
      "Mean Earning After 10 yrs of Grad (0-30k)    2977 non-null object\n",
      "Mean Earning After 10 yrs of Grad(30-75k)    2977 non-null object\n",
      "Mean Earning After 10 yrs of Grad(75k +)     2977 non-null object\n",
      "dtypes: float64(5), int64(2), object(7)\n",
      "memory usage: 446.6+ KB\n"
     ]
    }
   ],
   "source": [
    "row_indices_tofilter = []\n",
    "for column in columns_list:\n",
    "    row_indices_tofilter.append(Data_df[Data_df[column].astype(str).str.strip()==\"PrivacySuppressed\"].index.tolist())\n",
    "#     df[df['BoolCol'] == True].index.tolist()\n",
    "\n",
    "new_list = []\n",
    "for i in row_indices_tofilter:\n",
    "    for j in i:\n",
    "        new_list.append(j)\n",
    "len(new_list)\n",
    "filtering_set = set(new_list)\n",
    "len(filtering_set)\n",
    "filtering_list = list(filtering_set)\n",
    "filtering_list\n",
    "Data_filtered_df=Data_df.drop(filtering_list)\n",
    "Data_filtered_df\n",
    "# Data_filtered_df\n",
    "Data_filtered_df.info()"
   ]
  },
  {
   "cell_type": "code",
   "execution_count": 8,
   "metadata": {},
   "outputs": [
    {
     "data": {
      "text/html": [
       "<div>\n",
       "<style scoped>\n",
       "    .dataframe tbody tr th:only-of-type {\n",
       "        vertical-align: middle;\n",
       "    }\n",
       "\n",
       "    .dataframe tbody tr th {\n",
       "        vertical-align: top;\n",
       "    }\n",
       "\n",
       "    .dataframe thead th {\n",
       "        text-align: right;\n",
       "    }\n",
       "</style>\n",
       "<table border=\"1\" class=\"dataframe\">\n",
       "  <thead>\n",
       "    <tr style=\"text-align: right;\">\n",
       "      <th></th>\n",
       "      <th>University ID</th>\n",
       "      <th>Degree in Engineering</th>\n",
       "      <th>Degree in Math</th>\n",
       "      <th>Degree in Computer Science</th>\n",
       "      <th>Degree in Science and Tech</th>\n",
       "      <th>Region</th>\n",
       "      <th>Share of Female</th>\n",
       "      <th>Enrollment of UnderGrad</th>\n",
       "      <th>Mean Earning After 6 yrs of Grad (0-30k)</th>\n",
       "      <th>Mean Earning After 6 yrs of Grad(30-75k)</th>\n",
       "      <th>Mean Earning After 6 yrs of Grad(75k +)</th>\n",
       "      <th>Mean Earning After 10 yrs of Grad (0-30k)</th>\n",
       "      <th>Mean Earning After 10 yrs of Grad(30-75k)</th>\n",
       "      <th>Mean Earning After 10 yrs of Grad(75k +)</th>\n",
       "    </tr>\n",
       "  </thead>\n",
       "  <tbody>\n",
       "    <tr>\n",
       "      <th>0</th>\n",
       "      <td>100654</td>\n",
       "      <td>1.0</td>\n",
       "      <td>1.0</td>\n",
       "      <td>1.0</td>\n",
       "      <td>0.0</td>\n",
       "      <td>5</td>\n",
       "      <td>0.564030132</td>\n",
       "      <td>4824.0</td>\n",
       "      <td>27200</td>\n",
       "      <td>29100</td>\n",
       "      <td>30800</td>\n",
       "      <td>33000</td>\n",
       "      <td>37300</td>\n",
       "      <td>39500</td>\n",
       "    </tr>\n",
       "    <tr>\n",
       "      <th>1</th>\n",
       "      <td>100663</td>\n",
       "      <td>1.0</td>\n",
       "      <td>1.0</td>\n",
       "      <td>1.0</td>\n",
       "      <td>0.0</td>\n",
       "      <td>5</td>\n",
       "      <td>0.63909074</td>\n",
       "      <td>12866.0</td>\n",
       "      <td>38600</td>\n",
       "      <td>39400</td>\n",
       "      <td>40500</td>\n",
       "      <td>47000</td>\n",
       "      <td>49500</td>\n",
       "      <td>49300</td>\n",
       "    </tr>\n",
       "    <tr>\n",
       "      <th>3</th>\n",
       "      <td>100706</td>\n",
       "      <td>1.0</td>\n",
       "      <td>1.0</td>\n",
       "      <td>1.0</td>\n",
       "      <td>0.0</td>\n",
       "      <td>5</td>\n",
       "      <td>0.476349937</td>\n",
       "      <td>6917.0</td>\n",
       "      <td>36300</td>\n",
       "      <td>44200</td>\n",
       "      <td>41500</td>\n",
       "      <td>47000</td>\n",
       "      <td>55500</td>\n",
       "      <td>55100</td>\n",
       "    </tr>\n",
       "    <tr>\n",
       "      <th>4</th>\n",
       "      <td>100724</td>\n",
       "      <td>1.0</td>\n",
       "      <td>1.0</td>\n",
       "      <td>1.0</td>\n",
       "      <td>0.0</td>\n",
       "      <td>5</td>\n",
       "      <td>0.61341853</td>\n",
       "      <td>4189.0</td>\n",
       "      <td>23500</td>\n",
       "      <td>25400</td>\n",
       "      <td>27700</td>\n",
       "      <td>29000</td>\n",
       "      <td>32500</td>\n",
       "      <td>34300</td>\n",
       "    </tr>\n",
       "    <tr>\n",
       "      <th>5</th>\n",
       "      <td>100751</td>\n",
       "      <td>2.0</td>\n",
       "      <td>1.0</td>\n",
       "      <td>1.0</td>\n",
       "      <td>0.0</td>\n",
       "      <td>5</td>\n",
       "      <td>0.615252417</td>\n",
       "      <td>32387.0</td>\n",
       "      <td>42900</td>\n",
       "      <td>41400</td>\n",
       "      <td>42700</td>\n",
       "      <td>45500</td>\n",
       "      <td>51600</td>\n",
       "      <td>55800</td>\n",
       "    </tr>\n",
       "  </tbody>\n",
       "</table>\n",
       "</div>"
      ],
      "text/plain": [
       "   University ID  Degree in Engineering  Degree in Math  \\\n",
       "0         100654                    1.0             1.0   \n",
       "1         100663                    1.0             1.0   \n",
       "3         100706                    1.0             1.0   \n",
       "4         100724                    1.0             1.0   \n",
       "5         100751                    2.0             1.0   \n",
       "\n",
       "   Degree in Computer Science  Degree in Science and Tech  Region  \\\n",
       "0                         1.0                         0.0       5   \n",
       "1                         1.0                         0.0       5   \n",
       "3                         1.0                         0.0       5   \n",
       "4                         1.0                         0.0       5   \n",
       "5                         1.0                         0.0       5   \n",
       "\n",
       "  Share of Female  Enrollment of UnderGrad  \\\n",
       "0     0.564030132                   4824.0   \n",
       "1      0.63909074                  12866.0   \n",
       "3     0.476349937                   6917.0   \n",
       "4      0.61341853                   4189.0   \n",
       "5     0.615252417                  32387.0   \n",
       "\n",
       "  Mean Earning After 6 yrs of Grad (0-30k)  \\\n",
       "0                                    27200   \n",
       "1                                    38600   \n",
       "3                                    36300   \n",
       "4                                    23500   \n",
       "5                                    42900   \n",
       "\n",
       "  Mean Earning After 6 yrs of Grad(30-75k)  \\\n",
       "0                                    29100   \n",
       "1                                    39400   \n",
       "3                                    44200   \n",
       "4                                    25400   \n",
       "5                                    41400   \n",
       "\n",
       "  Mean Earning After 6 yrs of Grad(75k +)  \\\n",
       "0                                   30800   \n",
       "1                                   40500   \n",
       "3                                   41500   \n",
       "4                                   27700   \n",
       "5                                   42700   \n",
       "\n",
       "  Mean Earning After 10 yrs of Grad (0-30k)  \\\n",
       "0                                     33000   \n",
       "1                                     47000   \n",
       "3                                     47000   \n",
       "4                                     29000   \n",
       "5                                     45500   \n",
       "\n",
       "  Mean Earning After 10 yrs of Grad(30-75k)  \\\n",
       "0                                     37300   \n",
       "1                                     49500   \n",
       "3                                     55500   \n",
       "4                                     32500   \n",
       "5                                     51600   \n",
       "\n",
       "  Mean Earning After 10 yrs of Grad(75k +)  \n",
       "0                                    39500  \n",
       "1                                    49300  \n",
       "3                                    55100  \n",
       "4                                    34300  \n",
       "5                                    55800  "
      ]
     },
     "execution_count": 8,
     "metadata": {},
     "output_type": "execute_result"
    }
   ],
   "source": [
    "Data_filtered_df.head()"
   ]
  },
  {
   "cell_type": "code",
   "execution_count": 9,
   "metadata": {},
   "outputs": [
    {
     "name": "stdout",
     "output_type": "stream",
     "text": [
      "<class 'pandas.core.frame.DataFrame'>\n",
      "Int64Index: 2742 entries, 0 to 6352\n",
      "Data columns (total 14 columns):\n",
      "University ID                                2742 non-null int64\n",
      "Degree in Engineering                        2742 non-null float64\n",
      "Degree in Math                               2742 non-null float64\n",
      "Degree in Computer Science                   2742 non-null float64\n",
      "Degree in Science and Tech                   2742 non-null float64\n",
      "Region                                       2742 non-null int64\n",
      "Share of Female                              2742 non-null object\n",
      "Enrollment of UnderGrad                      2742 non-null float64\n",
      "Mean Earning After 6 yrs of Grad (0-30k)     2742 non-null object\n",
      "Mean Earning After 6 yrs of Grad(30-75k)     2742 non-null object\n",
      "Mean Earning After 6 yrs of Grad(75k +)      2742 non-null object\n",
      "Mean Earning After 10 yrs of Grad (0-30k)    2742 non-null object\n",
      "Mean Earning After 10 yrs of Grad(30-75k)    2742 non-null object\n",
      "Mean Earning After 10 yrs of Grad(75k +)     2742 non-null object\n",
      "dtypes: float64(5), int64(2), object(7)\n",
      "memory usage: 321.3+ KB\n"
     ]
    }
   ],
   "source": [
    "Data_no_Nan=Data_filtered_df.dropna()\n",
    "\n",
    "Data_no_Nan.info()"
   ]
  },
  {
   "cell_type": "code",
   "execution_count": 10,
   "metadata": {},
   "outputs": [
    {
     "name": "stderr",
     "output_type": "stream",
     "text": [
      "C:\\Users\\phili\\Anaconda3\\lib\\site-packages\\pandas\\core\\frame.py:3391: SettingWithCopyWarning: \n",
      "A value is trying to be set on a copy of a slice from a DataFrame.\n",
      "Try using .loc[row_indexer,col_indexer] = value instead\n",
      "\n",
      "See the caveats in the documentation: http://pandas.pydata.org/pandas-docs/stable/indexing.html#indexing-view-versus-copy\n",
      "  self[k1] = value[k2]\n"
     ]
    },
    {
     "name": "stdout",
     "output_type": "stream",
     "text": [
      "<class 'pandas.core.frame.DataFrame'>\n",
      "Int64Index: 2742 entries, 0 to 6352\n",
      "Data columns (total 14 columns):\n",
      "University ID                                2742 non-null int64\n",
      "Degree in Engineering                        2742 non-null float64\n",
      "Degree in Math                               2742 non-null float64\n",
      "Degree in Computer Science                   2742 non-null float64\n",
      "Degree in Science and Tech                   2742 non-null float64\n",
      "Region                                       2742 non-null int64\n",
      "Share of Female                              2742 non-null object\n",
      "Enrollment of UnderGrad                      2742 non-null float64\n",
      "Mean Earning After 6 yrs of Grad (0-30k)     2742 non-null int64\n",
      "Mean Earning After 6 yrs of Grad(30-75k)     2742 non-null int64\n",
      "Mean Earning After 6 yrs of Grad(75k +)      2742 non-null int64\n",
      "Mean Earning After 10 yrs of Grad (0-30k)    2742 non-null int64\n",
      "Mean Earning After 10 yrs of Grad(30-75k)    2742 non-null int64\n",
      "Mean Earning After 10 yrs of Grad(75k +)     2742 non-null int64\n",
      "dtypes: float64(5), int64(8), object(1)\n",
      "memory usage: 321.3+ KB\n"
     ]
    }
   ],
   "source": [
    "Data_no_Nan[[\n",
    "'Mean Earning After 6 yrs of Grad (0-30k)','Mean Earning After 6 yrs of Grad(30-75k)','Mean Earning After 6 yrs of Grad(75k +)','Mean Earning After 10 yrs of Grad (0-30k)'\n",
    ",'Mean Earning After 10 yrs of Grad(30-75k)',\n",
    "'Mean Earning After 10 yrs of Grad(75k +)']] = Data_no_Nan[[\n",
    "'Mean Earning After 6 yrs of Grad (0-30k)','Mean Earning After 6 yrs of Grad(30-75k)','Mean Earning After 6 yrs of Grad(75k +)','Mean Earning After 10 yrs of Grad (0-30k)'\n",
    ",'Mean Earning After 10 yrs of Grad(30-75k)',\n",
    "'Mean Earning After 10 yrs of Grad(75k +)']].apply(pd.to_numeric)\n",
    "Data_no_Nan.info()"
   ]
  },
  {
   "cell_type": "code",
   "execution_count": 11,
   "metadata": {},
   "outputs": [
    {
     "name": "stdout",
     "output_type": "stream",
     "text": [
      "<class 'pandas.core.frame.DataFrame'>\n",
      "Int64Index: 2742 entries, 0 to 6352\n",
      "Data columns (total 14 columns):\n",
      "University ID                                2742 non-null int64\n",
      "Degree in Engineering                        2742 non-null float64\n",
      "Degree in Math                               2742 non-null float64\n",
      "Degree in Computer Science                   2742 non-null float64\n",
      "Degree in Science and Tech                   2742 non-null float64\n",
      "Region                                       2742 non-null int64\n",
      "Share of Female                              2742 non-null object\n",
      "Enrollment of UnderGrad                      2742 non-null float64\n",
      "Mean Earning After 6 yrs of Grad (0-30k)     2742 non-null int64\n",
      "Mean Earning After 6 yrs of Grad(30-75k)     2742 non-null int64\n",
      "Mean Earning After 6 yrs of Grad(75k +)      2742 non-null int64\n",
      "Mean Earning After 10 yrs of Grad (0-30k)    2742 non-null int64\n",
      "Mean Earning After 10 yrs of Grad(30-75k)    2742 non-null int64\n",
      "Mean Earning After 10 yrs of Grad(75k +)     2742 non-null int64\n",
      "dtypes: float64(5), int64(8), object(1)\n",
      "memory usage: 321.3+ KB\n"
     ]
    }
   ],
   "source": [
    "Data_no_Nan.info()"
   ]
  },
  {
   "cell_type": "code",
   "execution_count": 12,
   "metadata": {},
   "outputs": [
    {
     "name": "stderr",
     "output_type": "stream",
     "text": [
      "C:\\Users\\phili\\Anaconda3\\lib\\site-packages\\pandas\\core\\generic.py:6586: SettingWithCopyWarning: \n",
      "A value is trying to be set on a copy of a slice from a DataFrame\n",
      "\n",
      "See the caveats in the documentation: http://pandas.pydata.org/pandas-docs/stable/indexing.html#indexing-view-versus-copy\n",
      "  self._update_inplace(new_data)\n"
     ]
    },
    {
     "data": {
      "text/html": [
       "<div>\n",
       "<style scoped>\n",
       "    .dataframe tbody tr th:only-of-type {\n",
       "        vertical-align: middle;\n",
       "    }\n",
       "\n",
       "    .dataframe tbody tr th {\n",
       "        vertical-align: top;\n",
       "    }\n",
       "\n",
       "    .dataframe thead th {\n",
       "        text-align: right;\n",
       "    }\n",
       "</style>\n",
       "<table border=\"1\" class=\"dataframe\">\n",
       "  <thead>\n",
       "    <tr style=\"text-align: right;\">\n",
       "      <th></th>\n",
       "      <th>University ID</th>\n",
       "      <th>Degree in Engineering</th>\n",
       "      <th>Degree in Math</th>\n",
       "      <th>Degree in Computer Science</th>\n",
       "      <th>Degree in Science and Tech</th>\n",
       "      <th>Region</th>\n",
       "      <th>Share of Female</th>\n",
       "      <th>Enrollment of UnderGrad</th>\n",
       "      <th>Mean Earning After 6 yrs of Grad (0-30k)</th>\n",
       "      <th>Mean Earning After 6 yrs of Grad(30-75k)</th>\n",
       "      <th>Mean Earning After 6 yrs of Grad(75k +)</th>\n",
       "      <th>Mean Earning After 10 yrs of Grad (0-30k)</th>\n",
       "      <th>Mean Earning After 10 yrs of Grad(30-75k)</th>\n",
       "      <th>Mean Earning After 10 yrs of Grad(75k +)</th>\n",
       "    </tr>\n",
       "  </thead>\n",
       "  <tbody>\n",
       "    <tr>\n",
       "      <th>0</th>\n",
       "      <td>100654</td>\n",
       "      <td>Degree in Engineering</td>\n",
       "      <td>Degree in Math</td>\n",
       "      <td>Degree in Computer Science</td>\n",
       "      <td>0</td>\n",
       "      <td>5</td>\n",
       "      <td>0.564030132</td>\n",
       "      <td>4824.0</td>\n",
       "      <td>27200</td>\n",
       "      <td>29100</td>\n",
       "      <td>30800</td>\n",
       "      <td>33000</td>\n",
       "      <td>37300</td>\n",
       "      <td>39500</td>\n",
       "    </tr>\n",
       "    <tr>\n",
       "      <th>1</th>\n",
       "      <td>100663</td>\n",
       "      <td>Degree in Engineering</td>\n",
       "      <td>Degree in Math</td>\n",
       "      <td>Degree in Computer Science</td>\n",
       "      <td>0</td>\n",
       "      <td>5</td>\n",
       "      <td>0.63909074</td>\n",
       "      <td>12866.0</td>\n",
       "      <td>38600</td>\n",
       "      <td>39400</td>\n",
       "      <td>40500</td>\n",
       "      <td>47000</td>\n",
       "      <td>49500</td>\n",
       "      <td>49300</td>\n",
       "    </tr>\n",
       "    <tr>\n",
       "      <th>3</th>\n",
       "      <td>100706</td>\n",
       "      <td>Degree in Engineering</td>\n",
       "      <td>Degree in Math</td>\n",
       "      <td>Degree in Computer Science</td>\n",
       "      <td>0</td>\n",
       "      <td>5</td>\n",
       "      <td>0.476349937</td>\n",
       "      <td>6917.0</td>\n",
       "      <td>36300</td>\n",
       "      <td>44200</td>\n",
       "      <td>41500</td>\n",
       "      <td>47000</td>\n",
       "      <td>55500</td>\n",
       "      <td>55100</td>\n",
       "    </tr>\n",
       "    <tr>\n",
       "      <th>4</th>\n",
       "      <td>100724</td>\n",
       "      <td>Degree in Engineering</td>\n",
       "      <td>Degree in Math</td>\n",
       "      <td>Degree in Computer Science</td>\n",
       "      <td>0</td>\n",
       "      <td>5</td>\n",
       "      <td>0.61341853</td>\n",
       "      <td>4189.0</td>\n",
       "      <td>23500</td>\n",
       "      <td>25400</td>\n",
       "      <td>27700</td>\n",
       "      <td>29000</td>\n",
       "      <td>32500</td>\n",
       "      <td>34300</td>\n",
       "    </tr>\n",
       "    <tr>\n",
       "      <th>5</th>\n",
       "      <td>100751</td>\n",
       "      <td>Degree in Engineering</td>\n",
       "      <td>Degree in Math</td>\n",
       "      <td>Degree in Computer Science</td>\n",
       "      <td>0</td>\n",
       "      <td>5</td>\n",
       "      <td>0.615252417</td>\n",
       "      <td>32387.0</td>\n",
       "      <td>42900</td>\n",
       "      <td>41400</td>\n",
       "      <td>42700</td>\n",
       "      <td>45500</td>\n",
       "      <td>51600</td>\n",
       "      <td>55800</td>\n",
       "    </tr>\n",
       "  </tbody>\n",
       "</table>\n",
       "</div>"
      ],
      "text/plain": [
       "   University ID  Degree in Engineering  Degree in Math  \\\n",
       "0         100654  Degree in Engineering  Degree in Math   \n",
       "1         100663  Degree in Engineering  Degree in Math   \n",
       "3         100706  Degree in Engineering  Degree in Math   \n",
       "4         100724  Degree in Engineering  Degree in Math   \n",
       "5         100751  Degree in Engineering  Degree in Math   \n",
       "\n",
       "   Degree in Computer Science Degree in Science and Tech  Region  \\\n",
       "0  Degree in Computer Science                          0       5   \n",
       "1  Degree in Computer Science                          0       5   \n",
       "3  Degree in Computer Science                          0       5   \n",
       "4  Degree in Computer Science                          0       5   \n",
       "5  Degree in Computer Science                          0       5   \n",
       "\n",
       "  Share of Female  Enrollment of UnderGrad  \\\n",
       "0     0.564030132                   4824.0   \n",
       "1      0.63909074                  12866.0   \n",
       "3     0.476349937                   6917.0   \n",
       "4      0.61341853                   4189.0   \n",
       "5     0.615252417                  32387.0   \n",
       "\n",
       "   Mean Earning After 6 yrs of Grad (0-30k)  \\\n",
       "0                                     27200   \n",
       "1                                     38600   \n",
       "3                                     36300   \n",
       "4                                     23500   \n",
       "5                                     42900   \n",
       "\n",
       "   Mean Earning After 6 yrs of Grad(30-75k)  \\\n",
       "0                                     29100   \n",
       "1                                     39400   \n",
       "3                                     44200   \n",
       "4                                     25400   \n",
       "5                                     41400   \n",
       "\n",
       "   Mean Earning After 6 yrs of Grad(75k +)  \\\n",
       "0                                    30800   \n",
       "1                                    40500   \n",
       "3                                    41500   \n",
       "4                                    27700   \n",
       "5                                    42700   \n",
       "\n",
       "   Mean Earning After 10 yrs of Grad (0-30k)  \\\n",
       "0                                      33000   \n",
       "1                                      47000   \n",
       "3                                      47000   \n",
       "4                                      29000   \n",
       "5                                      45500   \n",
       "\n",
       "   Mean Earning After 10 yrs of Grad(30-75k)  \\\n",
       "0                                      37300   \n",
       "1                                      49500   \n",
       "3                                      55500   \n",
       "4                                      32500   \n",
       "5                                      51600   \n",
       "\n",
       "   Mean Earning After 10 yrs of Grad(75k +)  \n",
       "0                                     39500  \n",
       "1                                     49300  \n",
       "3                                     55100  \n",
       "4                                     34300  \n",
       "5                                     55800  "
      ]
     },
     "execution_count": 12,
     "metadata": {},
     "output_type": "execute_result"
    }
   ],
   "source": [
    "Degree_grouping = Data_no_Nan\n",
    "Degree_grouping['Degree in Engineering'].replace([1.0, 2.0], ['Degree in Engineering', 'Degree in Engineering'], inplace=True)\n",
    "Degree_grouping['Degree in Math'].replace([1.0, 2.0], ['Degree in Math', 'B.S. Math'], inplace=True)\n",
    "Degree_grouping['Degree in Computer Science'].replace([1.0, 2.0], ['Degree in Computer Science', 'Degree in Computer Science'], inplace=True)\n",
    "Degree_grouping['Degree in Science and Tech'].replace([1.0, 2.0], ['Degree in Science and Tech', 'Degree in Science and Tech'], inplace=True)\n",
    "\n",
    "\n",
    "Degree_grouping.head()"
   ]
  },
  {
   "cell_type": "code",
   "execution_count": 13,
   "metadata": {},
   "outputs": [
    {
     "data": {
      "text/html": [
       "<div>\n",
       "<style scoped>\n",
       "    .dataframe tbody tr th:only-of-type {\n",
       "        vertical-align: middle;\n",
       "    }\n",
       "\n",
       "    .dataframe tbody tr th {\n",
       "        vertical-align: top;\n",
       "    }\n",
       "\n",
       "    .dataframe thead th {\n",
       "        text-align: right;\n",
       "    }\n",
       "</style>\n",
       "<table border=\"1\" class=\"dataframe\">\n",
       "  <thead>\n",
       "    <tr style=\"text-align: right;\">\n",
       "      <th></th>\n",
       "      <th>Mean Earning After 6 yrs of Grad (0-30k)</th>\n",
       "      <th>Mean Earning After 6 yrs of Grad(30-75k)</th>\n",
       "      <th>Mean Earning After 6 yrs of Grad(75k +)</th>\n",
       "    </tr>\n",
       "  </thead>\n",
       "  <tbody>\n",
       "    <tr>\n",
       "      <th>Degree in Engineering</th>\n",
       "      <td>40093.29</td>\n",
       "      <td>42360.78</td>\n",
       "      <td>45060.42</td>\n",
       "    </tr>\n",
       "    <tr>\n",
       "      <th>Degree in Science and Tech</th>\n",
       "      <td>35792.86</td>\n",
       "      <td>39010.71</td>\n",
       "      <td>41432.14</td>\n",
       "    </tr>\n",
       "    <tr>\n",
       "      <th>B.S. Math</th>\n",
       "      <td>33672.73</td>\n",
       "      <td>41018.18</td>\n",
       "      <td>44436.36</td>\n",
       "    </tr>\n",
       "    <tr>\n",
       "      <th>Degree in Math</th>\n",
       "      <td>36893.37</td>\n",
       "      <td>39723.71</td>\n",
       "      <td>42347.14</td>\n",
       "    </tr>\n",
       "    <tr>\n",
       "      <th>Degree in Computer Science</th>\n",
       "      <td>34848.73</td>\n",
       "      <td>39330.19</td>\n",
       "      <td>43471.90</td>\n",
       "    </tr>\n",
       "  </tbody>\n",
       "</table>\n",
       "</div>"
      ],
      "text/plain": [
       "                            Mean Earning After 6 yrs of Grad (0-30k)  \\\n",
       "Degree in Engineering                                       40093.29   \n",
       "Degree in Science and Tech                                  35792.86   \n",
       "B.S. Math                                                   33672.73   \n",
       "Degree in Math                                              36893.37   \n",
       "Degree in Computer Science                                  34848.73   \n",
       "\n",
       "                            Mean Earning After 6 yrs of Grad(30-75k)  \\\n",
       "Degree in Engineering                                       42360.78   \n",
       "Degree in Science and Tech                                  39010.71   \n",
       "B.S. Math                                                   41018.18   \n",
       "Degree in Math                                              39723.71   \n",
       "Degree in Computer Science                                  39330.19   \n",
       "\n",
       "                            Mean Earning After 6 yrs of Grad(75k +)  \n",
       "Degree in Engineering                                      45060.42  \n",
       "Degree in Science and Tech                                 41432.14  \n",
       "B.S. Math                                                  44436.36  \n",
       "Degree in Math                                             42347.14  \n",
       "Degree in Computer Science                                 43471.90  "
      ]
     },
     "execution_count": 13,
     "metadata": {},
     "output_type": "execute_result"
    }
   ],
   "source": [
    "Eng_Earning = Degree_grouping.groupby('Degree in Engineering')['Mean Earning After 6 yrs of Grad (0-30k)', 'Mean Earning After 6 yrs of Grad(30-75k)','Mean Earning After 6 yrs of Grad(75k +)'].mean()\n",
    "Eng_Earning.drop(Eng_Earning.index[0], inplace=True)\n",
    "Math_Earning = Degree_grouping.groupby('Degree in Math')['Mean Earning After 6 yrs of Grad (0-30k)', 'Mean Earning After 6 yrs of Grad(30-75k)','Mean Earning After 6 yrs of Grad(75k +)'].mean()\n",
    "Math_Earning.drop(Math_Earning.index[0], inplace=True)\n",
    "CompSci_Earning = Degree_grouping.groupby('Degree in Computer Science')['Mean Earning After 6 yrs of Grad (0-30k)', 'Mean Earning After 6 yrs of Grad(30-75k)','Mean Earning After 6 yrs of Grad(75k +)'].mean()\n",
    "CompSci_Earning.drop(CompSci_Earning.index[0], inplace=True)\n",
    "Science_Earning = Degree_grouping.groupby('Degree in Science and Tech')['Mean Earning After 6 yrs of Grad (0-30k)', 'Mean Earning After 6 yrs of Grad(30-75k)','Mean Earning After 6 yrs of Grad(75k +)'].mean()\n",
    "Science_Earning.drop(Science_Earning.index[0], inplace=True)\n",
    "\n",
    "\n",
    "Combined_df=[Eng_Earning,Science_Earning,Math_Earning,CompSci_Earning]\n",
    "\n",
    "Combined_df= pd.concat(Combined_df)\n",
    "Combined_df = Combined_df.round(2)\n",
    "Combined_df\n"
   ]
  },
  {
   "cell_type": "code",
   "execution_count": 14,
   "metadata": {},
   "outputs": [
    {
     "data": {
      "text/html": [
       "<div>\n",
       "<style scoped>\n",
       "    .dataframe tbody tr th:only-of-type {\n",
       "        vertical-align: middle;\n",
       "    }\n",
       "\n",
       "    .dataframe tbody tr th {\n",
       "        vertical-align: top;\n",
       "    }\n",
       "\n",
       "    .dataframe thead th {\n",
       "        text-align: right;\n",
       "    }\n",
       "</style>\n",
       "<table border=\"1\" class=\"dataframe\">\n",
       "  <thead>\n",
       "    <tr style=\"text-align: right;\">\n",
       "      <th></th>\n",
       "      <th>Mean Earning After 10 yrs of Grad (0-30k)</th>\n",
       "      <th>Mean Earning After 10 yrs of Grad(30-75k)</th>\n",
       "      <th>Mean Earning After 10 yrs of Grad(75k +)</th>\n",
       "    </tr>\n",
       "  </thead>\n",
       "  <tbody>\n",
       "    <tr>\n",
       "      <th>Degree in Engineering</th>\n",
       "      <td>53274.20</td>\n",
       "      <td>54774.38</td>\n",
       "      <td>58733.75</td>\n",
       "    </tr>\n",
       "    <tr>\n",
       "      <th>Degree in Science and Tech</th>\n",
       "      <td>46260.71</td>\n",
       "      <td>48985.71</td>\n",
       "      <td>53328.57</td>\n",
       "    </tr>\n",
       "    <tr>\n",
       "      <th>B.S. Math</th>\n",
       "      <td>41377.27</td>\n",
       "      <td>47768.18</td>\n",
       "      <td>52972.73</td>\n",
       "    </tr>\n",
       "    <tr>\n",
       "      <th>Degree in Math</th>\n",
       "      <td>48002.36</td>\n",
       "      <td>50700.36</td>\n",
       "      <td>54456.22</td>\n",
       "    </tr>\n",
       "    <tr>\n",
       "      <th>Degree in Computer Science</th>\n",
       "      <td>45805.46</td>\n",
       "      <td>49891.26</td>\n",
       "      <td>55099.03</td>\n",
       "    </tr>\n",
       "  </tbody>\n",
       "</table>\n",
       "</div>"
      ],
      "text/plain": [
       "                            Mean Earning After 10 yrs of Grad (0-30k)  \\\n",
       "Degree in Engineering                                        53274.20   \n",
       "Degree in Science and Tech                                   46260.71   \n",
       "B.S. Math                                                    41377.27   \n",
       "Degree in Math                                               48002.36   \n",
       "Degree in Computer Science                                   45805.46   \n",
       "\n",
       "                            Mean Earning After 10 yrs of Grad(30-75k)  \\\n",
       "Degree in Engineering                                        54774.38   \n",
       "Degree in Science and Tech                                   48985.71   \n",
       "B.S. Math                                                    47768.18   \n",
       "Degree in Math                                               50700.36   \n",
       "Degree in Computer Science                                   49891.26   \n",
       "\n",
       "                            Mean Earning After 10 yrs of Grad(75k +)  \n",
       "Degree in Engineering                                       58733.75  \n",
       "Degree in Science and Tech                                  53328.57  \n",
       "B.S. Math                                                   52972.73  \n",
       "Degree in Math                                              54456.22  \n",
       "Degree in Computer Science                                  55099.03  "
      ]
     },
     "execution_count": 14,
     "metadata": {},
     "output_type": "execute_result"
    }
   ],
   "source": [
    "Eng_Earning = Degree_grouping.groupby('Degree in Engineering')['Mean Earning After 10 yrs of Grad (0-30k)', 'Mean Earning After 10 yrs of Grad(30-75k)','Mean Earning After 10 yrs of Grad(75k +)'].mean()\n",
    "Eng_Earning.drop(Eng_Earning.index[0], inplace=True)\n",
    "Math_Earning = Degree_grouping.groupby('Degree in Math')['Mean Earning After 10 yrs of Grad (0-30k)', 'Mean Earning After 10 yrs of Grad(30-75k)','Mean Earning After 10 yrs of Grad(75k +)'].mean()\n",
    "Math_Earning.drop(Math_Earning.index[0], inplace=True)\n",
    "\n",
    "CompSci_Earning = Degree_grouping.groupby('Degree in Computer Science')['Mean Earning After 10 yrs of Grad (0-30k)', 'Mean Earning After 10 yrs of Grad(30-75k)','Mean Earning After 10 yrs of Grad(75k +)'].mean()\n",
    "CompSci_Earning.drop(CompSci_Earning.index[0], inplace=True)\n",
    "Science_Earning = Degree_grouping.groupby('Degree in Science and Tech')['Mean Earning After 10 yrs of Grad (0-30k)', 'Mean Earning After 10 yrs of Grad(30-75k)','Mean Earning After 10 yrs of Grad(75k +)'].mean()\n",
    "Science_Earning.drop(Science_Earning.index[0], inplace=True)\n",
    "\n",
    "\n",
    "Combined_ten_df=[Eng_Earning,Science_Earning,Math_Earning,CompSci_Earning]\n",
    "\n",
    "Combined_ten_df= pd.concat(Combined_ten_df)\n",
    "Combined_ten_df = Combined_ten_df.round(2)\n",
    "Combined_ten_df"
   ]
  },
  {
   "cell_type": "code",
   "execution_count": 15,
   "metadata": {},
   "outputs": [
    {
     "data": {
      "image/png": "[encoded data removed]",
      "text/plain": [
       "<Figure size 720x648 with 1 Axes>"
      ]
     },
     "metadata": {
      "needs_background": "light"
     },
     "output_type": "display_data"
    },
    {
     "data": {
      "image/png": "[encoded data removed]",
      "text/plain": [
       "<Figure size 720x648 with 1 Axes>"
      ]
     },
     "metadata": {
      "needs_background": "light"
     },
     "output_type": "display_data"
    }
   ],
   "source": [
    "Combined_df.plot(kind='Bar',stacked = True,legend= True,figsize=(10,9),rot=10,title = \"Mean Earning for Steam Degrees After 6 Yrs\")\n",
    "\n",
    "Combined_ten_df.plot(kind='Bar',stacked = True,legend= True,figsize=(10,9),rot=10,title = \"Mean Earning for Steam Degrees After 10 Yrs\")\n",
    "\n",
    "plt.savefig(\"C:/Users/phili/Desktop/Graphfortenth.png\")\n"
   ]
  },
  {
   "cell_type": "code",
   "execution_count": null,
   "metadata": {},
   "outputs": [],
   "source": []
  },
  {
   "cell_type": "code",
   "execution_count": 16,
   "metadata": {},
   "outputs": [
    {
     "data": {
      "text/html": [
       "<style  type=\"text/css\" >\n",
       "    #T_bc8033e8_fcd1_11e9_9a6a_84fdd19324fbrow1_col1 {\n",
       "            background-color:  red;\n",
       "        }    #T_bc8033e8_fcd1_11e9_9a6a_84fdd19324fbrow1_col2 {\n",
       "            background-color:  red;\n",
       "        }    #T_bc8033e8_fcd1_11e9_9a6a_84fdd19324fbrow2_col0 {\n",
       "            background-color:  red;\n",
       "        }</style><table id=\"T_bc8033e8_fcd1_11e9_9a6a_84fdd19324fb\" ><thead>    <tr>        <th class=\"blank level0\" ></th>        <th class=\"col_heading level0 col0\" >Mean Earning After 6 yrs of Grad (0-30k)</th>        <th class=\"col_heading level0 col1\" >Mean Earning After 6 yrs of Grad(30-75k)</th>        <th class=\"col_heading level0 col2\" >Mean Earning After 6 yrs of Grad(75k +)</th>    </tr></thead><tbody>\n",
       "                <tr>\n",
       "                        <th id=\"T_bc8033e8_fcd1_11e9_9a6a_84fdd19324fblevel0_row0\" class=\"row_heading level0 row0\" >Degree in Engineering</th>\n",
       "                        <td id=\"T_bc8033e8_fcd1_11e9_9a6a_84fdd19324fbrow0_col0\" class=\"data row0 col0\" >40093.3</td>\n",
       "                        <td id=\"T_bc8033e8_fcd1_11e9_9a6a_84fdd19324fbrow0_col1\" class=\"data row0 col1\" >42360.8</td>\n",
       "                        <td id=\"T_bc8033e8_fcd1_11e9_9a6a_84fdd19324fbrow0_col2\" class=\"data row0 col2\" >45060.4</td>\n",
       "            </tr>\n",
       "            <tr>\n",
       "                        <th id=\"T_bc8033e8_fcd1_11e9_9a6a_84fdd19324fblevel0_row1\" class=\"row_heading level0 row1\" >Degree in Science and Tech</th>\n",
       "                        <td id=\"T_bc8033e8_fcd1_11e9_9a6a_84fdd19324fbrow1_col0\" class=\"data row1 col0\" >35792.9</td>\n",
       "                        <td id=\"T_bc8033e8_fcd1_11e9_9a6a_84fdd19324fbrow1_col1\" class=\"data row1 col1\" >39010.7</td>\n",
       "                        <td id=\"T_bc8033e8_fcd1_11e9_9a6a_84fdd19324fbrow1_col2\" class=\"data row1 col2\" >41432.1</td>\n",
       "            </tr>\n",
       "            <tr>\n",
       "                        <th id=\"T_bc8033e8_fcd1_11e9_9a6a_84fdd19324fblevel0_row2\" class=\"row_heading level0 row2\" >B.S. Math</th>\n",
       "                        <td id=\"T_bc8033e8_fcd1_11e9_9a6a_84fdd19324fbrow2_col0\" class=\"data row2 col0\" >33672.7</td>\n",
       "                        <td id=\"T_bc8033e8_fcd1_11e9_9a6a_84fdd19324fbrow2_col1\" class=\"data row2 col1\" >41018.2</td>\n",
       "                        <td id=\"T_bc8033e8_fcd1_11e9_9a6a_84fdd19324fbrow2_col2\" class=\"data row2 col2\" >44436.4</td>\n",
       "            </tr>\n",
       "            <tr>\n",
       "                        <th id=\"T_bc8033e8_fcd1_11e9_9a6a_84fdd19324fblevel0_row3\" class=\"row_heading level0 row3\" >Degree in Math</th>\n",
       "                        <td id=\"T_bc8033e8_fcd1_11e9_9a6a_84fdd19324fbrow3_col0\" class=\"data row3 col0\" >36893.4</td>\n",
       "                        <td id=\"T_bc8033e8_fcd1_11e9_9a6a_84fdd19324fbrow3_col1\" class=\"data row3 col1\" >39723.7</td>\n",
       "                        <td id=\"T_bc8033e8_fcd1_11e9_9a6a_84fdd19324fbrow3_col2\" class=\"data row3 col2\" >42347.1</td>\n",
       "            </tr>\n",
       "            <tr>\n",
       "                        <th id=\"T_bc8033e8_fcd1_11e9_9a6a_84fdd19324fblevel0_row4\" class=\"row_heading level0 row4\" >Degree in Computer Science</th>\n",
       "                        <td id=\"T_bc8033e8_fcd1_11e9_9a6a_84fdd19324fbrow4_col0\" class=\"data row4 col0\" >34848.7</td>\n",
       "                        <td id=\"T_bc8033e8_fcd1_11e9_9a6a_84fdd19324fbrow4_col1\" class=\"data row4 col1\" >39330.2</td>\n",
       "                        <td id=\"T_bc8033e8_fcd1_11e9_9a6a_84fdd19324fbrow4_col2\" class=\"data row4 col2\" >43471.9</td>\n",
       "            </tr>\n",
       "    </tbody></table>"
      ],
      "text/plain": [
       "<pandas.io.formats.style.Styler at 0x1b7ca8b2160>"
      ]
     },
     "execution_count": 16,
     "metadata": {},
     "output_type": "execute_result"
    }
   ],
   "source": [
    "Sixyr_Bachelor_Degree_Min = Combined_df.style.highlight_min(color='red')\n",
    "Sixyr_Bachelor_Degree_Min\n"
   ]
  },
  {
   "cell_type": "code",
   "execution_count": 17,
   "metadata": {},
   "outputs": [
    {
     "data": {
      "text/html": [
       "<style  type=\"text/css\" >\n",
       "    #T_bc862764_fcd1_11e9_8e0d_84fdd19324fbrow0_col0 {\n",
       "            background-color:  green;\n",
       "        }    #T_bc862764_fcd1_11e9_8e0d_84fdd19324fbrow0_col1 {\n",
       "            background-color:  green;\n",
       "        }    #T_bc862764_fcd1_11e9_8e0d_84fdd19324fbrow0_col2 {\n",
       "            background-color:  green;\n",
       "        }</style><table id=\"T_bc862764_fcd1_11e9_8e0d_84fdd19324fb\" ><thead>    <tr>        <th class=\"blank level0\" ></th>        <th class=\"col_heading level0 col0\" >Mean Earning After 6 yrs of Grad (0-30k)</th>        <th class=\"col_heading level0 col1\" >Mean Earning After 6 yrs of Grad(30-75k)</th>        <th class=\"col_heading level0 col2\" >Mean Earning After 6 yrs of Grad(75k +)</th>    </tr></thead><tbody>\n",
       "                <tr>\n",
       "                        <th id=\"T_bc862764_fcd1_11e9_8e0d_84fdd19324fblevel0_row0\" class=\"row_heading level0 row0\" >Degree in Engineering</th>\n",
       "                        <td id=\"T_bc862764_fcd1_11e9_8e0d_84fdd19324fbrow0_col0\" class=\"data row0 col0\" >40093.3</td>\n",
       "                        <td id=\"T_bc862764_fcd1_11e9_8e0d_84fdd19324fbrow0_col1\" class=\"data row0 col1\" >42360.8</td>\n",
       "                        <td id=\"T_bc862764_fcd1_11e9_8e0d_84fdd19324fbrow0_col2\" class=\"data row0 col2\" >45060.4</td>\n",
       "            </tr>\n",
       "            <tr>\n",
       "                        <th id=\"T_bc862764_fcd1_11e9_8e0d_84fdd19324fblevel0_row1\" class=\"row_heading level0 row1\" >Degree in Science and Tech</th>\n",
       "                        <td id=\"T_bc862764_fcd1_11e9_8e0d_84fdd19324fbrow1_col0\" class=\"data row1 col0\" >35792.9</td>\n",
       "                        <td id=\"T_bc862764_fcd1_11e9_8e0d_84fdd19324fbrow1_col1\" class=\"data row1 col1\" >39010.7</td>\n",
       "                        <td id=\"T_bc862764_fcd1_11e9_8e0d_84fdd19324fbrow1_col2\" class=\"data row1 col2\" >41432.1</td>\n",
       "            </tr>\n",
       "            <tr>\n",
       "                        <th id=\"T_bc862764_fcd1_11e9_8e0d_84fdd19324fblevel0_row2\" class=\"row_heading level0 row2\" >B.S. Math</th>\n",
       "                        <td id=\"T_bc862764_fcd1_11e9_8e0d_84fdd19324fbrow2_col0\" class=\"data row2 col0\" >33672.7</td>\n",
       "                        <td id=\"T_bc862764_fcd1_11e9_8e0d_84fdd19324fbrow2_col1\" class=\"data row2 col1\" >41018.2</td>\n",
       "                        <td id=\"T_bc862764_fcd1_11e9_8e0d_84fdd19324fbrow2_col2\" class=\"data row2 col2\" >44436.4</td>\n",
       "            </tr>\n",
       "            <tr>\n",
       "                        <th id=\"T_bc862764_fcd1_11e9_8e0d_84fdd19324fblevel0_row3\" class=\"row_heading level0 row3\" >Degree in Math</th>\n",
       "                        <td id=\"T_bc862764_fcd1_11e9_8e0d_84fdd19324fbrow3_col0\" class=\"data row3 col0\" >36893.4</td>\n",
       "                        <td id=\"T_bc862764_fcd1_11e9_8e0d_84fdd19324fbrow3_col1\" class=\"data row3 col1\" >39723.7</td>\n",
       "                        <td id=\"T_bc862764_fcd1_11e9_8e0d_84fdd19324fbrow3_col2\" class=\"data row3 col2\" >42347.1</td>\n",
       "            </tr>\n",
       "            <tr>\n",
       "                        <th id=\"T_bc862764_fcd1_11e9_8e0d_84fdd19324fblevel0_row4\" class=\"row_heading level0 row4\" >Degree in Computer Science</th>\n",
       "                        <td id=\"T_bc862764_fcd1_11e9_8e0d_84fdd19324fbrow4_col0\" class=\"data row4 col0\" >34848.7</td>\n",
       "                        <td id=\"T_bc862764_fcd1_11e9_8e0d_84fdd19324fbrow4_col1\" class=\"data row4 col1\" >39330.2</td>\n",
       "                        <td id=\"T_bc862764_fcd1_11e9_8e0d_84fdd19324fbrow4_col2\" class=\"data row4 col2\" >43471.9</td>\n",
       "            </tr>\n",
       "    </tbody></table>"
      ],
      "text/plain": [
       "<pandas.io.formats.style.Styler at 0x1b7cc774ba8>"
      ]
     },
     "execution_count": 17,
     "metadata": {},
     "output_type": "execute_result"
    }
   ],
   "source": [
    "Sixyr_Bachelor_Degree_Max = Combined_df.style.highlight_max(color='green')\n",
    "Sixyr_Bachelor_Degree_Max"
   ]
  },
  {
   "cell_type": "code",
   "execution_count": 18,
   "metadata": {},
   "outputs": [
    {
     "data": {
      "text/html": [
       "<style  type=\"text/css\" >\n",
       "    #T_bc8c6940_fcd1_11e9_8468_84fdd19324fbrow2_col0 {\n",
       "            background-color:  red;\n",
       "        }    #T_bc8c6940_fcd1_11e9_8468_84fdd19324fbrow2_col1 {\n",
       "            background-color:  red;\n",
       "        }    #T_bc8c6940_fcd1_11e9_8468_84fdd19324fbrow2_col2 {\n",
       "            background-color:  red;\n",
       "        }</style><table id=\"T_bc8c6940_fcd1_11e9_8468_84fdd19324fb\" ><thead>    <tr>        <th class=\"blank level0\" ></th>        <th class=\"col_heading level0 col0\" >Mean Earning After 10 yrs of Grad (0-30k)</th>        <th class=\"col_heading level0 col1\" >Mean Earning After 10 yrs of Grad(30-75k)</th>        <th class=\"col_heading level0 col2\" >Mean Earning After 10 yrs of Grad(75k +)</th>    </tr></thead><tbody>\n",
       "                <tr>\n",
       "                        <th id=\"T_bc8c6940_fcd1_11e9_8468_84fdd19324fblevel0_row0\" class=\"row_heading level0 row0\" >Degree in Engineering</th>\n",
       "                        <td id=\"T_bc8c6940_fcd1_11e9_8468_84fdd19324fbrow0_col0\" class=\"data row0 col0\" >53274.2</td>\n",
       "                        <td id=\"T_bc8c6940_fcd1_11e9_8468_84fdd19324fbrow0_col1\" class=\"data row0 col1\" >54774.4</td>\n",
       "                        <td id=\"T_bc8c6940_fcd1_11e9_8468_84fdd19324fbrow0_col2\" class=\"data row0 col2\" >58733.8</td>\n",
       "            </tr>\n",
       "            <tr>\n",
       "                        <th id=\"T_bc8c6940_fcd1_11e9_8468_84fdd19324fblevel0_row1\" class=\"row_heading level0 row1\" >Degree in Science and Tech</th>\n",
       "                        <td id=\"T_bc8c6940_fcd1_11e9_8468_84fdd19324fbrow1_col0\" class=\"data row1 col0\" >46260.7</td>\n",
       "                        <td id=\"T_bc8c6940_fcd1_11e9_8468_84fdd19324fbrow1_col1\" class=\"data row1 col1\" >48985.7</td>\n",
       "                        <td id=\"T_bc8c6940_fcd1_11e9_8468_84fdd19324fbrow1_col2\" class=\"data row1 col2\" >53328.6</td>\n",
       "            </tr>\n",
       "            <tr>\n",
       "                        <th id=\"T_bc8c6940_fcd1_11e9_8468_84fdd19324fblevel0_row2\" class=\"row_heading level0 row2\" >B.S. Math</th>\n",
       "                        <td id=\"T_bc8c6940_fcd1_11e9_8468_84fdd19324fbrow2_col0\" class=\"data row2 col0\" >41377.3</td>\n",
       "                        <td id=\"T_bc8c6940_fcd1_11e9_8468_84fdd19324fbrow2_col1\" class=\"data row2 col1\" >47768.2</td>\n",
       "                        <td id=\"T_bc8c6940_fcd1_11e9_8468_84fdd19324fbrow2_col2\" class=\"data row2 col2\" >52972.7</td>\n",
       "            </tr>\n",
       "            <tr>\n",
       "                        <th id=\"T_bc8c6940_fcd1_11e9_8468_84fdd19324fblevel0_row3\" class=\"row_heading level0 row3\" >Degree in Math</th>\n",
       "                        <td id=\"T_bc8c6940_fcd1_11e9_8468_84fdd19324fbrow3_col0\" class=\"data row3 col0\" >48002.4</td>\n",
       "                        <td id=\"T_bc8c6940_fcd1_11e9_8468_84fdd19324fbrow3_col1\" class=\"data row3 col1\" >50700.4</td>\n",
       "                        <td id=\"T_bc8c6940_fcd1_11e9_8468_84fdd19324fbrow3_col2\" class=\"data row3 col2\" >54456.2</td>\n",
       "            </tr>\n",
       "            <tr>\n",
       "                        <th id=\"T_bc8c6940_fcd1_11e9_8468_84fdd19324fblevel0_row4\" class=\"row_heading level0 row4\" >Degree in Computer Science</th>\n",
       "                        <td id=\"T_bc8c6940_fcd1_11e9_8468_84fdd19324fbrow4_col0\" class=\"data row4 col0\" >45805.5</td>\n",
       "                        <td id=\"T_bc8c6940_fcd1_11e9_8468_84fdd19324fbrow4_col1\" class=\"data row4 col1\" >49891.3</td>\n",
       "                        <td id=\"T_bc8c6940_fcd1_11e9_8468_84fdd19324fbrow4_col2\" class=\"data row4 col2\" >55099</td>\n",
       "            </tr>\n",
       "    </tbody></table>"
      ],
      "text/plain": [
       "<pandas.io.formats.style.Styler at 0x1b7cc774898>"
      ]
     },
     "execution_count": 18,
     "metadata": {},
     "output_type": "execute_result"
    }
   ],
   "source": [
    "Tenyr_Bachelor_Degree_Min = Combined_ten_df.style.highlight_min(color='red')\n",
    "Tenyr_Bachelor_Degree_Min"
   ]
  },
  {
   "cell_type": "code",
   "execution_count": 19,
   "metadata": {},
   "outputs": [
    {
     "data": {
      "text/html": [
       "<style  type=\"text/css\" >\n",
       "    #T_bc92ab06_fcd1_11e9_ac60_84fdd19324fbrow0_col0 {\n",
       "            background-color:  green;\n",
       "        }    #T_bc92ab06_fcd1_11e9_ac60_84fdd19324fbrow0_col1 {\n",
       "            background-color:  green;\n",
       "        }    #T_bc92ab06_fcd1_11e9_ac60_84fdd19324fbrow0_col2 {\n",
       "            background-color:  green;\n",
       "        }</style><table id=\"T_bc92ab06_fcd1_11e9_ac60_84fdd19324fb\" ><thead>    <tr>        <th class=\"blank level0\" ></th>        <th class=\"col_heading level0 col0\" >Mean Earning After 10 yrs of Grad (0-30k)</th>        <th class=\"col_heading level0 col1\" >Mean Earning After 10 yrs of Grad(30-75k)</th>        <th class=\"col_heading level0 col2\" >Mean Earning After 10 yrs of Grad(75k +)</th>    </tr></thead><tbody>\n",
       "                <tr>\n",
       "                        <th id=\"T_bc92ab06_fcd1_11e9_ac60_84fdd19324fblevel0_row0\" class=\"row_heading level0 row0\" >Degree in Engineering</th>\n",
       "                        <td id=\"T_bc92ab06_fcd1_11e9_ac60_84fdd19324fbrow0_col0\" class=\"data row0 col0\" >53274.2</td>\n",
       "                        <td id=\"T_bc92ab06_fcd1_11e9_ac60_84fdd19324fbrow0_col1\" class=\"data row0 col1\" >54774.4</td>\n",
       "                        <td id=\"T_bc92ab06_fcd1_11e9_ac60_84fdd19324fbrow0_col2\" class=\"data row0 col2\" >58733.8</td>\n",
       "            </tr>\n",
       "            <tr>\n",
       "                        <th id=\"T_bc92ab06_fcd1_11e9_ac60_84fdd19324fblevel0_row1\" class=\"row_heading level0 row1\" >Degree in Science and Tech</th>\n",
       "                        <td id=\"T_bc92ab06_fcd1_11e9_ac60_84fdd19324fbrow1_col0\" class=\"data row1 col0\" >46260.7</td>\n",
       "                        <td id=\"T_bc92ab06_fcd1_11e9_ac60_84fdd19324fbrow1_col1\" class=\"data row1 col1\" >48985.7</td>\n",
       "                        <td id=\"T_bc92ab06_fcd1_11e9_ac60_84fdd19324fbrow1_col2\" class=\"data row1 col2\" >53328.6</td>\n",
       "            </tr>\n",
       "            <tr>\n",
       "                        <th id=\"T_bc92ab06_fcd1_11e9_ac60_84fdd19324fblevel0_row2\" class=\"row_heading level0 row2\" >B.S. Math</th>\n",
       "                        <td id=\"T_bc92ab06_fcd1_11e9_ac60_84fdd19324fbrow2_col0\" class=\"data row2 col0\" >41377.3</td>\n",
       "                        <td id=\"T_bc92ab06_fcd1_11e9_ac60_84fdd19324fbrow2_col1\" class=\"data row2 col1\" >47768.2</td>\n",
       "                        <td id=\"T_bc92ab06_fcd1_11e9_ac60_84fdd19324fbrow2_col2\" class=\"data row2 col2\" >52972.7</td>\n",
       "            </tr>\n",
       "            <tr>\n",
       "                        <th id=\"T_bc92ab06_fcd1_11e9_ac60_84fdd19324fblevel0_row3\" class=\"row_heading level0 row3\" >Degree in Math</th>\n",
       "                        <td id=\"T_bc92ab06_fcd1_11e9_ac60_84fdd19324fbrow3_col0\" class=\"data row3 col0\" >48002.4</td>\n",
       "                        <td id=\"T_bc92ab06_fcd1_11e9_ac60_84fdd19324fbrow3_col1\" class=\"data row3 col1\" >50700.4</td>\n",
       "                        <td id=\"T_bc92ab06_fcd1_11e9_ac60_84fdd19324fbrow3_col2\" class=\"data row3 col2\" >54456.2</td>\n",
       "            </tr>\n",
       "            <tr>\n",
       "                        <th id=\"T_bc92ab06_fcd1_11e9_ac60_84fdd19324fblevel0_row4\" class=\"row_heading level0 row4\" >Degree in Computer Science</th>\n",
       "                        <td id=\"T_bc92ab06_fcd1_11e9_ac60_84fdd19324fbrow4_col0\" class=\"data row4 col0\" >45805.5</td>\n",
       "                        <td id=\"T_bc92ab06_fcd1_11e9_ac60_84fdd19324fbrow4_col1\" class=\"data row4 col1\" >49891.3</td>\n",
       "                        <td id=\"T_bc92ab06_fcd1_11e9_ac60_84fdd19324fbrow4_col2\" class=\"data row4 col2\" >55099</td>\n",
       "            </tr>\n",
       "    </tbody></table>"
      ],
      "text/plain": [
       "<pandas.io.formats.style.Styler at 0x1b7cc776908>"
      ]
     },
     "execution_count": 19,
     "metadata": {},
     "output_type": "execute_result"
    }
   ],
   "source": [
    "\n",
    "Tenyr_Bachelor_Degree_Max = Combined_ten_df.style.highlight_max(color='green')\n",
    "Tenyr_Bachelor_Degree_Max"
   ]
  },
  {
   "cell_type": "code",
   "execution_count": 20,
   "metadata": {},
   "outputs": [
    {
     "ename": "AttributeError",
     "evalue": "'Styler' object has no attribute 'to_html'",
     "output_type": "error",
     "traceback": [
      "\u001b[1;31m---------------------------------------------------------------------------\u001b[0m",
      "\u001b[1;31mAttributeError\u001b[0m                            Traceback (most recent call last)",
      "\u001b[1;32m<ipython-input-20-4a69685febce>\u001b[0m in \u001b[0;36m<module>\u001b[1;34m\u001b[0m\n\u001b[1;32m----> 1\u001b[1;33m \u001b[0mTenyr_Bachelor_Degree_Max\u001b[0m\u001b[1;33m.\u001b[0m\u001b[0mto_html\u001b[0m\u001b[1;33m(\u001b[0m\u001b[1;34m'Tenyr_Bachelor_Degree_Max.html'\u001b[0m\u001b[1;33m)\u001b[0m\u001b[1;33m\u001b[0m\u001b[1;33m\u001b[0m\u001b[0m\n\u001b[0m\u001b[0;32m      2\u001b[0m \u001b[0mPdfFilename\u001b[0m\u001b[1;33m=\u001b[0m\u001b[1;34m'Tenyr_Bachelor_Degree_Max.pdf'\u001b[0m\u001b[1;33m\u001b[0m\u001b[1;33m\u001b[0m\u001b[0m\n\u001b[0;32m      3\u001b[0m \u001b[0mpdf\u001b[0m\u001b[1;33m.\u001b[0m\u001b[0mfrom_file\u001b[0m\u001b[1;33m(\u001b[0m\u001b[1;34m'test.html'\u001b[0m\u001b[1;33m,\u001b[0m \u001b[0mPdfFilename\u001b[0m\u001b[1;33m)\u001b[0m\u001b[1;33m\u001b[0m\u001b[1;33m\u001b[0m\u001b[0m\n",
      "\u001b[1;31mAttributeError\u001b[0m: 'Styler' object has no attribute 'to_html'"
     ]
    }
   ],
   "source": [
    "Tenyr_Bachelor_Degree_Max.to_html('Tenyr_Bachelor_Degree_Max.html')\n",
    "PdfFilename='Tenyr_Bachelor_Degree_Max.pdf'\n",
    "pdf.from_file('test.html', PdfFilename)"
   ]
  },
  {
   "cell_type": "code",
   "execution_count": null,
   "metadata": {},
   "outputs": [],
   "source": []
  },
  {
   "cell_type": "code",
   "execution_count": null,
   "metadata": {},
   "outputs": [],
   "source": []
  }
 ],
 "metadata": {
  "kernelspec": {
   "display_name": "Python 3",
   "language": "python",
   "name": "python3"
  },
  "language_info": {
   "codemirror_mode": {
    "name": "ipython",
    "version": 3
   },
   "file_extension": ".py",
   "mimetype": "text/x-python",
   "name": "python",
   "nbconvert_exporter": "python",
   "pygments_lexer": "ipython3",
   "version": "3.7.1"
  }
 },
 "nbformat": 4,
 "nbformat_minor": 4
}
