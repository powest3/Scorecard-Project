{
 "cells": [
  {
   "cell_type": "code",
   "execution_count": 1,
   "metadata": {},
   "outputs": [
    {
     "data": {
      "text/html": [
       "<div>\n",
       "<style scoped>\n",
       "    .dataframe tbody tr th:only-of-type {\n",
       "        vertical-align: middle;\n",
       "    }\n",
       "\n",
       "    .dataframe tbody tr th {\n",
       "        vertical-align: top;\n",
       "    }\n",
       "\n",
       "    .dataframe thead th {\n",
       "        text-align: right;\n",
       "    }\n",
       "</style>\n",
       "<table border=\"1\" class=\"dataframe\">\n",
       "  <thead>\n",
       "    <tr style=\"text-align: right;\">\n",
       "      <th></th>\n",
       "      <th>University ID</th>\n",
       "      <th>University Name</th>\n",
       "      <th>City</th>\n",
       "      <th>State</th>\n",
       "      <th>Mean Earnings Six</th>\n",
       "      <th>Mean Earnings Ten</th>\n",
       "      <th>Admission Rate</th>\n",
       "      <th>All Admission Rates</th>\n",
       "    </tr>\n",
       "  </thead>\n",
       "  <tbody>\n",
       "    <tr>\n",
       "      <th>0</th>\n",
       "      <td>100654.0</td>\n",
       "      <td>Alabama A &amp; M University</td>\n",
       "      <td>Normal</td>\n",
       "      <td>AL</td>\n",
       "      <td>28400</td>\n",
       "      <td>35500</td>\n",
       "      <td>0.9027</td>\n",
       "      <td>0.902671</td>\n",
       "    </tr>\n",
       "    <tr>\n",
       "      <th>1</th>\n",
       "      <td>100663.0</td>\n",
       "      <td>University of Alabama at Birmingham</td>\n",
       "      <td>Birmingham</td>\n",
       "      <td>AL</td>\n",
       "      <td>39400</td>\n",
       "      <td>48400</td>\n",
       "      <td>0.9181</td>\n",
       "      <td>0.918068</td>\n",
       "    </tr>\n",
       "    <tr>\n",
       "      <th>2</th>\n",
       "      <td>100690.0</td>\n",
       "      <td>Amridge University</td>\n",
       "      <td>Montgomery</td>\n",
       "      <td>AL</td>\n",
       "      <td>35400</td>\n",
       "      <td>47600</td>\n",
       "      <td>NaN</td>\n",
       "      <td>NaN</td>\n",
       "    </tr>\n",
       "    <tr>\n",
       "      <th>3</th>\n",
       "      <td>100706.0</td>\n",
       "      <td>University of Alabama in Huntsville</td>\n",
       "      <td>Huntsville</td>\n",
       "      <td>AL</td>\n",
       "      <td>40300</td>\n",
       "      <td>52000</td>\n",
       "      <td>0.8123</td>\n",
       "      <td>0.812304</td>\n",
       "    </tr>\n",
       "    <tr>\n",
       "      <th>4</th>\n",
       "      <td>100724.0</td>\n",
       "      <td>Alabama State University</td>\n",
       "      <td>Montgomery</td>\n",
       "      <td>AL</td>\n",
       "      <td>24400</td>\n",
       "      <td>30600</td>\n",
       "      <td>0.9787</td>\n",
       "      <td>0.978661</td>\n",
       "    </tr>\n",
       "  </tbody>\n",
       "</table>\n",
       "</div>"
      ],
      "text/plain": [
       "   University ID                      University Name        City State  \\\n",
       "0       100654.0             Alabama A & M University      Normal    AL   \n",
       "1       100663.0  University of Alabama at Birmingham  Birmingham    AL   \n",
       "2       100690.0                   Amridge University  Montgomery    AL   \n",
       "3       100706.0  University of Alabama in Huntsville  Huntsville    AL   \n",
       "4       100724.0             Alabama State University  Montgomery    AL   \n",
       "\n",
       "  Mean Earnings Six Mean Earnings Ten  Admission Rate  All Admission Rates  \n",
       "0             28400             35500          0.9027             0.902671  \n",
       "1             39400             48400          0.9181             0.918068  \n",
       "2             35400             47600             NaN                  NaN  \n",
       "3             40300             52000          0.8123             0.812304  \n",
       "4             24400             30600          0.9787             0.978661  "
      ]
     },
     "execution_count": 1,
     "metadata": {},
     "output_type": "execute_result"
    }
   ],
   "source": [
    "import matplotlib.pyplot as plt\n",
    "import numpy as np\n",
    "import pandas as pd\n",
    "# Load in csv\n",
    "college_data = (\"Scorecard Data.csv\")\n",
    "university_df = pd.read_csv(college_data)\n",
    "reduced_university_df =university_df[[\"UNITID\",\"INSTNM\",\"CITY\", \"STABBR\",\"MN_EARN_WNE_P6\",\"MN_EARN_WNE_P10\",\"ADM_RATE\",\n",
    "                                    \"ADM_RATE_ALL\"]]\n",
    "reduced_university_df = reduced_university_df.rename(\n",
    "   columns={\"UNITID\":\"University ID\",\"INSTNM\":\"University Name\", \"CITY\":\"City\",\"STABBR\":\"State\",\n",
    "                            \n",
    "            \"MN_EARN_WNE_P6\":\"Mean Earnings Six\",\"MN_EARN_WNE_P10\":\"Mean Earnings Ten\", \"ADM_RATE\": \"Admission Rate\", \"ADM_RATE_ALL\": \"All Admission Rates\"})\n",
    "reduced_university_df.head(5)"
   ]
  },
  {
   "cell_type": "code",
   "execution_count": 2,
   "metadata": {},
   "outputs": [
    {
     "name": "stdout",
     "output_type": "stream",
     "text": [
      "Requirement already satisfied: stats in /anaconda3/lib/python3.7/site-packages (0.1.2a0)\r\n"
     ]
    }
   ],
   "source": [
    "#Install stats\n",
    "!pip install stats"
   ]
  },
  {
   "cell_type": "code",
   "execution_count": 3,
   "metadata": {},
   "outputs": [],
   "source": [
    "# Dependencies\n",
    "from stats import mean, median, mode"
   ]
  },
  {
   "cell_type": "code",
   "execution_count": 4,
   "metadata": {},
   "outputs": [],
   "source": [
    "reduced_university_df.dropna(axis ='rows', inplace=True)"
   ]
  },
  {
   "cell_type": "code",
   "execution_count": 5,
   "metadata": {},
   "outputs": [
    {
     "name": "stdout",
     "output_type": "stream",
     "text": [
      "<class 'pandas.core.frame.DataFrame'>\n",
      "Int64Index: 1774 entries, 0 to 6351\n",
      "Data columns (total 8 columns):\n",
      "University ID          1774 non-null float64\n",
      "University Name        1774 non-null object\n",
      "City                   1774 non-null object\n",
      "State                  1774 non-null object\n",
      "Mean Earnings Six      1774 non-null object\n",
      "Mean Earnings Ten      1774 non-null object\n",
      "Admission Rate         1774 non-null float64\n",
      "All Admission Rates    1774 non-null float64\n",
      "dtypes: float64(3), object(5)\n",
      "memory usage: 124.7+ KB\n"
     ]
    }
   ],
   "source": [
    "row_indices_tofilter = []\n",
    "for column in reduced_university_df:\n",
    "   row_indices_tofilter.append(reduced_university_df[reduced_university_df[column].astype(str).str.strip()==\"PrivacySuppressed\"].index.tolist())\n",
    "#     df[df['BoolCol'] == True].index.tolist()\n",
    "new_list = []\n",
    "for i in row_indices_tofilter:\n",
    "   for j in i:\n",
    "       new_list.append(j)\n",
    "len(new_list)\n",
    "filtering_set = set(new_list)\n",
    "len(filtering_set)\n",
    "filtering_list = list(filtering_set)\n",
    "filtering_list\n",
    "Data_filtered_df=reduced_university_df.drop(filtering_list)\n",
    "Data_filtered_df\n",
    "# Data_filtered_df\n",
    "Data_filtered_df.info()"
   ]
  },
  {
   "cell_type": "code",
   "execution_count": 6,
   "metadata": {},
   "outputs": [
    {
     "data": {
      "text/html": [
       "<div>\n",
       "<style scoped>\n",
       "    .dataframe tbody tr th:only-of-type {\n",
       "        vertical-align: middle;\n",
       "    }\n",
       "\n",
       "    .dataframe tbody tr th {\n",
       "        vertical-align: top;\n",
       "    }\n",
       "\n",
       "    .dataframe thead th {\n",
       "        text-align: right;\n",
       "    }\n",
       "</style>\n",
       "<table border=\"1\" class=\"dataframe\">\n",
       "  <thead>\n",
       "    <tr style=\"text-align: right;\">\n",
       "      <th></th>\n",
       "      <th>University ID</th>\n",
       "      <th>University Name</th>\n",
       "      <th>City</th>\n",
       "      <th>State</th>\n",
       "      <th>Mean Earnings Six</th>\n",
       "      <th>Mean Earnings Ten</th>\n",
       "      <th>Admission Rate</th>\n",
       "      <th>All Admission Rates</th>\n",
       "    </tr>\n",
       "  </thead>\n",
       "  <tbody>\n",
       "    <tr>\n",
       "      <th>0</th>\n",
       "      <td>100654.0</td>\n",
       "      <td>Alabama A &amp; M University</td>\n",
       "      <td>Normal</td>\n",
       "      <td>AL</td>\n",
       "      <td>28400</td>\n",
       "      <td>35500</td>\n",
       "      <td>0.9027</td>\n",
       "      <td>0.902671</td>\n",
       "    </tr>\n",
       "    <tr>\n",
       "      <th>1</th>\n",
       "      <td>100663.0</td>\n",
       "      <td>University of Alabama at Birmingham</td>\n",
       "      <td>Birmingham</td>\n",
       "      <td>AL</td>\n",
       "      <td>39400</td>\n",
       "      <td>48400</td>\n",
       "      <td>0.9181</td>\n",
       "      <td>0.918068</td>\n",
       "    </tr>\n",
       "    <tr>\n",
       "      <th>3</th>\n",
       "      <td>100706.0</td>\n",
       "      <td>University of Alabama in Huntsville</td>\n",
       "      <td>Huntsville</td>\n",
       "      <td>AL</td>\n",
       "      <td>40300</td>\n",
       "      <td>52000</td>\n",
       "      <td>0.8123</td>\n",
       "      <td>0.812304</td>\n",
       "    </tr>\n",
       "    <tr>\n",
       "      <th>4</th>\n",
       "      <td>100724.0</td>\n",
       "      <td>Alabama State University</td>\n",
       "      <td>Montgomery</td>\n",
       "      <td>AL</td>\n",
       "      <td>24400</td>\n",
       "      <td>30600</td>\n",
       "      <td>0.9787</td>\n",
       "      <td>0.978661</td>\n",
       "    </tr>\n",
       "    <tr>\n",
       "      <th>5</th>\n",
       "      <td>100751.0</td>\n",
       "      <td>The University of Alabama</td>\n",
       "      <td>Tuscaloosa</td>\n",
       "      <td>AL</td>\n",
       "      <td>42400</td>\n",
       "      <td>51600</td>\n",
       "      <td>0.5330</td>\n",
       "      <td>0.532954</td>\n",
       "    </tr>\n",
       "  </tbody>\n",
       "</table>\n",
       "</div>"
      ],
      "text/plain": [
       "   University ID                      University Name        City State  \\\n",
       "0       100654.0             Alabama A & M University      Normal    AL   \n",
       "1       100663.0  University of Alabama at Birmingham  Birmingham    AL   \n",
       "3       100706.0  University of Alabama in Huntsville  Huntsville    AL   \n",
       "4       100724.0             Alabama State University  Montgomery    AL   \n",
       "5       100751.0            The University of Alabama  Tuscaloosa    AL   \n",
       "\n",
       "  Mean Earnings Six Mean Earnings Ten  Admission Rate  All Admission Rates  \n",
       "0             28400             35500          0.9027             0.902671  \n",
       "1             39400             48400          0.9181             0.918068  \n",
       "3             40300             52000          0.8123             0.812304  \n",
       "4             24400             30600          0.9787             0.978661  \n",
       "5             42400             51600          0.5330             0.532954  "
      ]
     },
     "execution_count": 6,
     "metadata": {},
     "output_type": "execute_result"
    }
   ],
   "source": [
    "Data_filtered_df.head()"
   ]
  },
  {
   "cell_type": "code",
   "execution_count": 7,
   "metadata": {},
   "outputs": [
    {
     "data": {
      "text/html": [
       "<div>\n",
       "<style scoped>\n",
       "    .dataframe tbody tr th:only-of-type {\n",
       "        vertical-align: middle;\n",
       "    }\n",
       "\n",
       "    .dataframe tbody tr th {\n",
       "        vertical-align: top;\n",
       "    }\n",
       "\n",
       "    .dataframe thead th {\n",
       "        text-align: right;\n",
       "    }\n",
       "</style>\n",
       "<table border=\"1\" class=\"dataframe\">\n",
       "  <thead>\n",
       "    <tr style=\"text-align: right;\">\n",
       "      <th></th>\n",
       "      <th>University ID</th>\n",
       "      <th>University Name</th>\n",
       "      <th>City</th>\n",
       "      <th>State</th>\n",
       "      <th>Mean Earnings Six</th>\n",
       "      <th>Mean Earnings Ten</th>\n",
       "      <th>Admission Rate</th>\n",
       "      <th>All Admission Rates</th>\n",
       "      <th>new_admission</th>\n",
       "    </tr>\n",
       "  </thead>\n",
       "  <tbody>\n",
       "    <tr>\n",
       "      <th>0</th>\n",
       "      <td>100654.0</td>\n",
       "      <td>Alabama A &amp; M University</td>\n",
       "      <td>Normal</td>\n",
       "      <td>AL</td>\n",
       "      <td>28400</td>\n",
       "      <td>35500</td>\n",
       "      <td>0.9027</td>\n",
       "      <td>0.902671</td>\n",
       "      <td>&gt;75%</td>\n",
       "    </tr>\n",
       "    <tr>\n",
       "      <th>1</th>\n",
       "      <td>100663.0</td>\n",
       "      <td>University of Alabama at Birmingham</td>\n",
       "      <td>Birmingham</td>\n",
       "      <td>AL</td>\n",
       "      <td>39400</td>\n",
       "      <td>48400</td>\n",
       "      <td>0.9181</td>\n",
       "      <td>0.918068</td>\n",
       "      <td>&gt;75%</td>\n",
       "    </tr>\n",
       "    <tr>\n",
       "      <th>3</th>\n",
       "      <td>100706.0</td>\n",
       "      <td>University of Alabama in Huntsville</td>\n",
       "      <td>Huntsville</td>\n",
       "      <td>AL</td>\n",
       "      <td>40300</td>\n",
       "      <td>52000</td>\n",
       "      <td>0.8123</td>\n",
       "      <td>0.812304</td>\n",
       "      <td>&gt;75%</td>\n",
       "    </tr>\n",
       "    <tr>\n",
       "      <th>4</th>\n",
       "      <td>100724.0</td>\n",
       "      <td>Alabama State University</td>\n",
       "      <td>Montgomery</td>\n",
       "      <td>AL</td>\n",
       "      <td>24400</td>\n",
       "      <td>30600</td>\n",
       "      <td>0.9787</td>\n",
       "      <td>0.978661</td>\n",
       "      <td>&gt;75%</td>\n",
       "    </tr>\n",
       "    <tr>\n",
       "      <th>5</th>\n",
       "      <td>100751.0</td>\n",
       "      <td>The University of Alabama</td>\n",
       "      <td>Tuscaloosa</td>\n",
       "      <td>AL</td>\n",
       "      <td>42400</td>\n",
       "      <td>51600</td>\n",
       "      <td>0.5330</td>\n",
       "      <td>0.532954</td>\n",
       "      <td>50-75%</td>\n",
       "    </tr>\n",
       "  </tbody>\n",
       "</table>\n",
       "</div>"
      ],
      "text/plain": [
       "   University ID                      University Name        City State  \\\n",
       "0       100654.0             Alabama A & M University      Normal    AL   \n",
       "1       100663.0  University of Alabama at Birmingham  Birmingham    AL   \n",
       "3       100706.0  University of Alabama in Huntsville  Huntsville    AL   \n",
       "4       100724.0             Alabama State University  Montgomery    AL   \n",
       "5       100751.0            The University of Alabama  Tuscaloosa    AL   \n",
       "\n",
       "  Mean Earnings Six Mean Earnings Ten  Admission Rate  All Admission Rates  \\\n",
       "0             28400             35500          0.9027             0.902671   \n",
       "1             39400             48400          0.9181             0.918068   \n",
       "3             40300             52000          0.8123             0.812304   \n",
       "4             24400             30600          0.9787             0.978661   \n",
       "5             42400             51600          0.5330             0.532954   \n",
       "\n",
       "  new_admission  \n",
       "0          >75%  \n",
       "1          >75%  \n",
       "3          >75%  \n",
       "4          >75%  \n",
       "5        50-75%  "
      ]
     },
     "execution_count": 7,
     "metadata": {},
     "output_type": "execute_result"
    }
   ],
   "source": [
    "# Create the bins in which Data will be held\n",
    "# Bins are 0, 0.1, 0.2, 0.3, 0.4, 0.5, 0.6, 0.7, 0.8, 0.9, 1   \n",
    "bins = [0, 0.25, 0.50, 0.75, 1.00]\n",
    "group_names = [\"<25%\", \"25-50%\", \"50-75%\", \">75%\"]\n",
    "\n",
    "Data_filtered_df['new_admission'] = pd.cut(Data_filtered_df[\"All Admission Rates\"], bins, labels=group_names)\n",
    "\n",
    "Data_filtered_df.head()\n"
   ]
  },
  {
   "cell_type": "code",
   "execution_count": 9,
   "metadata": {},
   "outputs": [
    {
     "name": "stdout",
     "output_type": "stream",
     "text": [
      "[0, 0.25, 0.5, 0.75, 1.0]\n"
     ]
    }
   ],
   "source": [
    "print(bins)"
   ]
  },
  {
   "cell_type": "code",
   "execution_count": 10,
   "metadata": {},
   "outputs": [
    {
     "data": {
      "text/plain": [
       "University ID           float64\n",
       "University Name          object\n",
       "City                     object\n",
       "State                    object\n",
       "Mean Earnings Six        object\n",
       "Mean Earnings Ten        object\n",
       "Admission Rate          float64\n",
       "All Admission Rates     float64\n",
       "new_admission          category\n",
       "dtype: object"
      ]
     },
     "execution_count": 10,
     "metadata": {},
     "output_type": "execute_result"
    }
   ],
   "source": [
    "Data_filtered_df.dtypes"
   ]
  },
  {
   "cell_type": "code",
   "execution_count": 14,
   "metadata": {},
   "outputs": [
    {
     "data": {
      "text/html": [
       "<div>\n",
       "<style scoped>\n",
       "    .dataframe tbody tr th:only-of-type {\n",
       "        vertical-align: middle;\n",
       "    }\n",
       "\n",
       "    .dataframe tbody tr th {\n",
       "        vertical-align: top;\n",
       "    }\n",
       "\n",
       "    .dataframe thead th {\n",
       "        text-align: right;\n",
       "    }\n",
       "</style>\n",
       "<table border=\"1\" class=\"dataframe\">\n",
       "  <thead>\n",
       "    <tr style=\"text-align: right;\">\n",
       "      <th></th>\n",
       "      <th>Mean Earnings Six</th>\n",
       "    </tr>\n",
       "  </thead>\n",
       "  <tbody>\n",
       "    <tr>\n",
       "      <th>0</th>\n",
       "      <td>28400</td>\n",
       "    </tr>\n",
       "    <tr>\n",
       "      <th>1</th>\n",
       "      <td>39400</td>\n",
       "    </tr>\n",
       "    <tr>\n",
       "      <th>3</th>\n",
       "      <td>40300</td>\n",
       "    </tr>\n",
       "    <tr>\n",
       "      <th>4</th>\n",
       "      <td>24400</td>\n",
       "    </tr>\n",
       "    <tr>\n",
       "      <th>5</th>\n",
       "      <td>42400</td>\n",
       "    </tr>\n",
       "  </tbody>\n",
       "</table>\n",
       "</div>"
      ],
      "text/plain": [
       "   Mean Earnings Six\n",
       "0              28400\n",
       "1              39400\n",
       "3              40300\n",
       "4              24400\n",
       "5              42400"
      ]
     },
     "execution_count": 14,
     "metadata": {},
     "output_type": "execute_result"
    }
   ],
   "source": [
    "r = pd.DataFrame(Data_filtered_df[\"Mean Earnings Six\"].astype(str).astype(int))\n",
    "# Data_filtered_df.dtypes\n",
    "r.head()"
   ]
  },
  {
   "cell_type": "code",
   "execution_count": 15,
   "metadata": {},
   "outputs": [
    {
     "data": {
      "text/plain": [
       "Mean Earnings Six    int64\n",
       "dtype: object"
      ]
     },
     "execution_count": 15,
     "metadata": {},
     "output_type": "execute_result"
    }
   ],
   "source": [
    "r.dtypes"
   ]
  },
  {
   "cell_type": "code",
   "execution_count": null,
   "metadata": {},
   "outputs": [],
   "source": [
    "# df.to_csv('example.csv')\n",
    "Data_filtered_df.to_csv('FilterMe.csv')\n"
   ]
  },
  {
   "cell_type": "code",
   "execution_count": 19,
   "metadata": {},
   "outputs": [
    {
     "data": {
      "text/html": [
       "<div>\n",
       "<style scoped>\n",
       "    .dataframe tbody tr th:only-of-type {\n",
       "        vertical-align: middle;\n",
       "    }\n",
       "\n",
       "    .dataframe tbody tr th {\n",
       "        vertical-align: top;\n",
       "    }\n",
       "\n",
       "    .dataframe thead th {\n",
       "        text-align: right;\n",
       "    }\n",
       "</style>\n",
       "<table border=\"1\" class=\"dataframe\">\n",
       "  <thead>\n",
       "    <tr style=\"text-align: right;\">\n",
       "      <th></th>\n",
       "      <th>Mean Earnings Six</th>\n",
       "      <th>six_year_earnings</th>\n",
       "    </tr>\n",
       "  </thead>\n",
       "  <tbody>\n",
       "    <tr>\n",
       "      <th>0</th>\n",
       "      <td>28400</td>\n",
       "      <td>50K</td>\n",
       "    </tr>\n",
       "    <tr>\n",
       "      <th>1</th>\n",
       "      <td>39400</td>\n",
       "      <td>50K</td>\n",
       "    </tr>\n",
       "    <tr>\n",
       "      <th>3</th>\n",
       "      <td>40300</td>\n",
       "      <td>50K</td>\n",
       "    </tr>\n",
       "    <tr>\n",
       "      <th>4</th>\n",
       "      <td>24400</td>\n",
       "      <td>25K</td>\n",
       "    </tr>\n",
       "    <tr>\n",
       "      <th>5</th>\n",
       "      <td>42400</td>\n",
       "      <td>50K</td>\n",
       "    </tr>\n",
       "  </tbody>\n",
       "</table>\n",
       "</div>"
      ],
      "text/plain": [
       "   Mean Earnings Six six_year_earnings\n",
       "0              28400               50K\n",
       "1              39400               50K\n",
       "3              40300               50K\n",
       "4              24400               25K\n",
       "5              42400               50K"
      ]
     },
     "execution_count": 19,
     "metadata": {},
     "output_type": "execute_result"
    }
   ],
   "source": [
    "#Create Bins for earnings\n",
    "# Bins are 0, 10, 20, 30, 40, 50, 60, 70, 80, 90, 100   \n",
    "bins_two = [0, 10000, 25000, 50000, 75000, 100000, 10000000 ]\n",
    "group_names_two = [\"10K\", \"25K\", \"50K\", \"75K\", \"100K\", \"100k-1M\"]\n",
    "\n",
    "\n",
    "r[\"six_year_earnings\"] = pd.cut(r[\"Mean Earnings Six\"], bins_two, labels=group_names_two)\n",
    "\n",
    "r.head()"
   ]
  },
  {
   "cell_type": "code",
   "execution_count": 30,
   "metadata": {},
   "outputs": [
    {
     "data": {
      "image/png": "[encoded data removed]",
      "text/plain": [
       "<Figure size 432x288 with 1 Axes>"
      ]
     },
     "metadata": {
      "needs_background": "light"
     },
     "output_type": "display_data"
    }
   ],
   "source": [
    "# Create a title, x label, and y label for our chart\n",
    "plt.title(\"Admission Rates v Six Year Earnings\")\n",
    "plt.xlabel(\"Admission Rates\")\n",
    "plt.ylabel(\"Six Year Earnings\")\n",
    "\n",
    "\n",
    "\n",
    "\n",
    "\n",
    "plt.scatter(Data_filtered_df['All Admission Rates'], r['Mean Earnings Six'])\n",
    "plt.show()"
   ]
  },
  {
   "cell_type": "code",
   "execution_count": 22,
   "metadata": {},
   "outputs": [
    {
     "data": {
      "text/html": [
       "<div>\n",
       "<style scoped>\n",
       "    .dataframe tbody tr th:only-of-type {\n",
       "        vertical-align: middle;\n",
       "    }\n",
       "\n",
       "    .dataframe tbody tr th {\n",
       "        vertical-align: top;\n",
       "    }\n",
       "\n",
       "    .dataframe thead th {\n",
       "        text-align: right;\n",
       "    }\n",
       "</style>\n",
       "<table border=\"1\" class=\"dataframe\">\n",
       "  <thead>\n",
       "    <tr style=\"text-align: right;\">\n",
       "      <th></th>\n",
       "      <th>Mean Earnings Ten</th>\n",
       "    </tr>\n",
       "  </thead>\n",
       "  <tbody>\n",
       "    <tr>\n",
       "      <th>0</th>\n",
       "      <td>35500</td>\n",
       "    </tr>\n",
       "    <tr>\n",
       "      <th>1</th>\n",
       "      <td>48400</td>\n",
       "    </tr>\n",
       "    <tr>\n",
       "      <th>3</th>\n",
       "      <td>52000</td>\n",
       "    </tr>\n",
       "    <tr>\n",
       "      <th>4</th>\n",
       "      <td>30600</td>\n",
       "    </tr>\n",
       "    <tr>\n",
       "      <th>5</th>\n",
       "      <td>51600</td>\n",
       "    </tr>\n",
       "  </tbody>\n",
       "</table>\n",
       "</div>"
      ],
      "text/plain": [
       "   Mean Earnings Ten\n",
       "0              35500\n",
       "1              48400\n",
       "3              52000\n",
       "4              30600\n",
       "5              51600"
      ]
     },
     "execution_count": 22,
     "metadata": {},
     "output_type": "execute_result"
    }
   ],
   "source": [
    "p = pd.DataFrame(Data_filtered_df[\"Mean Earnings Ten\"].astype(str).astype(int))\n",
    "# Data_filtered_df.dtypes\n",
    "p.head()"
   ]
  },
  {
   "cell_type": "code",
   "execution_count": 31,
   "metadata": {},
   "outputs": [
    {
     "data": {
      "image/png": "[encoded data removed]",
      "text/plain": [
       "<Figure size 432x288 with 1 Axes>"
      ]
     },
     "metadata": {
      "needs_background": "light"
     },
     "output_type": "display_data"
    }
   ],
   "source": [
    "# Create a title, x label, and y label for our chart\n",
    "plt.title(\"Admission Rates v Ten Year Earnings\")\n",
    "plt.xlabel(\"Admission Rates\")\n",
    "plt.ylabel(\"Ten Year Earnings\")\n",
    "\n",
    "\n",
    "\n",
    "\n",
    "\n",
    "\n",
    "\n",
    "\n",
    "\n",
    "plt.scatter(Data_filtered_df['All Admission Rates'], p['Mean Earnings Ten'])\n",
    "plt.show()"
   ]
  },
  {
   "cell_type": "code",
   "execution_count": null,
   "metadata": {},
   "outputs": [],
   "source": []
  }
 ],
 "metadata": {
  "kernelspec": {
   "display_name": "Python 3",
   "language": "python",
   "name": "python3"
  },
  "language_info": {
   "codemirror_mode": {
    "name": "ipython",
    "version": 3
   },
   "file_extension": ".py",
   "mimetype": "text/x-python",
   "name": "python",
   "nbconvert_exporter": "python",
   "pygments_lexer": "ipython3",
   "version": "3.7.3"
  }
 },
 "nbformat": 4,
 "nbformat_minor": 2
}
